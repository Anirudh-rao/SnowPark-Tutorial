{
 "metadata": {
  "kernelspec": {
   "display_name": "Streamlit Notebook",
   "name": "streamlit"
  },
  "lastEditStatus": {
   "notebookId": "qcnfcffavrsfuswpztd5",
   "authorId": "2857618133917",
   "authorName": "ROOK",
   "authorEmail": "anirudh.rao@gds.ey.com",
   "sessionId": "eb912b6c-0383-494e-a6a0-fb1dab79da50",
   "lastEditTime": 1753683776656
  }
 },
 "nbformat_minor": 5,
 "nbformat": 4,
 "cells": [
  {
   "cell_type": "markdown",
   "id": "d03602f6-6fe1-4796-b0bb-246912a1c516",
   "metadata": {
    "name": "cell1",
    "collapsed": false
   },
   "source": "# Clean and Sample data with Dataframes\n\n1. Clean and enrich data using snowpark for python\n\n    1. Handle Missing values\n\n    2. Sample Data\n\n2. Perform Aggregate and set based operations on dataframes\n\n    1. Functions\n\nFor more information follow the below links\n\n1. [Handling missing values with Snowpark for Python — Part 1](https://medium.com/snowflake/handling-missing-values-with-snowpark-for-python-part-1-4af4285d24e6)\n\n2. [snowflake.snowpark.DataFrame.dropna](https://docs.snowflake.com/en/developer-guide/snowpark/reference/python/latest/snowpark/api/snowflake.snowpark.DataFrame.dropna)\n\n3. [snowflake.snowpark.DataFrame.fillna](https://docs.snowflake.com/en/developer-guide/snowpark/reference/python/latest/snowpark/api/snowflake.snowpark.DataFrame.fillna)"
  },
  {
   "cell_type": "code",
   "id": "f27fe37a-3b04-40ef-b45c-9c6b81b352b8",
   "metadata": {
    "language": "python",
    "name": "cell2"
   },
   "outputs": [],
   "source": "from snowflake.snowpark.context import get_active_session\n\nsession = get_active_session()\ndf = session.create_dataframe([\n    [1.0, 1, \"SE\"],\n    [float(\"nan\"), 2, None],\n    [float(\"nan\"), 3, \"DK\"],\n    [4.0, None, \"SE\"],\n    [float(\"nan\"), None, None]]\n    ).to_df(\"a\", \"b\", \"c\")\ndf",
   "execution_count": null
  },
  {
   "cell_type": "code",
   "id": "38221c1c-4f0c-48a0-9c07-9567421bd800",
   "metadata": {
    "language": "python",
    "name": "cell3"
   },
   "outputs": [],
   "source": "#Exclude all rows with a null/N/A in ANY column (how=\"any\" by def)\ndf.dropna()",
   "execution_count": null
  },
  {
   "cell_type": "code",
   "id": "eb1d0858-0a2b-499a-958a-e838d8caabc2",
   "metadata": {
    "language": "python",
    "name": "cell4"
   },
   "outputs": [],
   "source": "#Exclude all rows with a null/N/A in EVERY column\ndf.dropna(how=\"all\")",
   "execution_count": null
  },
  {
   "cell_type": "code",
   "id": "21d7a7f1-009c-4bd9-be34-eaa68fb7e3c0",
   "metadata": {
    "language": "python",
    "name": "cell5"
   },
   "outputs": [],
   "source": "#Exclude all rows with a null/N/A in AT LEAST 2 columns (A and C only)\ndf.dropna(subset=[\"a\", \"c\"], thresh=2)",
   "execution_count": null
  },
  {
   "cell_type": "code",
   "id": "6ede93e5-03aa-4660-9406-ce7661e56e20",
   "metadata": {
    "language": "python",
    "name": "cell6"
   },
   "outputs": [],
   "source": "# Replace all missing values with 3 (must be the same data type!)\ndf.fillna(3)",
   "execution_count": null
  },
  {
   "cell_type": "code",
   "id": "f3465053-06c5-466c-be67-018b7c197aac",
   "metadata": {
    "language": "python",
    "name": "cell7"
   },
   "outputs": [],
   "source": "# Replace missing values in specific columns\ndf.fillna({\"a\": 3.14, \"c\": \"XY\"})",
   "execution_count": null
  },
  {
   "cell_type": "code",
   "id": "26dd5cfc-c96e-48f6-ad5f-493d6d53bc97",
   "metadata": {
    "language": "python",
    "name": "cell8"
   },
   "outputs": [],
   "source": "#Replace some value everywhere (or in specific column, based on the data type)\ndf.replace(\"SE\", \"NW\", subset=[\"C\"])",
   "execution_count": null
  },
  {
   "cell_type": "code",
   "id": "508b729d-efc7-43f5-9ef9-68f158655b9b",
   "metadata": {
    "language": "python",
    "name": "cell9"
   },
   "outputs": [],
   "source": "#Replace multiple values\ndf.replace({1:111, \"SE\":\"NW\"})",
   "execution_count": null
  },
  {
   "cell_type": "code",
   "id": "539b4fc8-7423-4ac2-a02d-e6d9d5f4c346",
   "metadata": {
    "language": "python",
    "name": "cell10"
   },
   "outputs": [],
   "source": "import snowflake.snowpark.functions as F\n\n#Replace first column with a last appended column (also named A)\ndf.with_column(\"A\", F.replace(F.col(\"A\"), 1, 111,))",
   "execution_count": null
  },
  {
   "cell_type": "code",
   "id": "1a31123f-ebe8-49ec-b674-b603dcb2a937",
   "metadata": {
    "language": "python",
    "name": "cell11"
   },
   "outputs": [],
   "source": "# replace column values with existing data\ndf.with_column(\"A\", \n    F.iff((F.col(\"A\") == F.lit('NaN')) | (F.col(\"A\").is_null()),\n    F.avg(F.iff(F.col(\"A\") == F.lit('NaN'), F.lit(None), F.col(\"A\"))).over(),\n    F.col(\"A\")))",
   "execution_count": null
  },
  {
   "cell_type": "code",
   "id": "bec624ff-bc61-45e1-8258-a014ac30a99e",
   "metadata": {
    "language": "python",
    "name": "cell12"
   },
   "outputs": [],
   "source": "# replace calling built-in IFNULL function\ndf.with_column(\"B\",\n    F.call_builtin(\"ifnull\", F.col(\"B\"), F.avg(F.col(\"B\")).over()))",
   "execution_count": null
  },
  {
   "cell_type": "code",
   "id": "9819ce17-66c8-4187-b933-4990b5a82438",
   "metadata": {
    "language": "python",
    "name": "cell13"
   },
   "outputs": [],
   "source": "# replace with most frequent value (mode)\ndf.with_column(\"C\",\n    F.call_builtin(\"ifnull\", F.col(\"C\"), F.mode(F.col(\"C\")).over()))",
   "execution_count": null
  }
 ]
}