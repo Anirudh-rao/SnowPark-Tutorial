{
 "metadata": {
  "kernelspec": {
   "display_name": "Streamlit Notebook",
   "name": "streamlit"
  },
  "lastEditStatus": {
   "notebookId": "prxq3amm3wfzrvdrjfxp",
   "authorId": "2857618133917",
   "authorName": "ROOK",
   "authorEmail": "anirudh.rao@gds.ey.com",
   "sessionId": "934a36bd-96b4-4cc3-9901-02bab8b997da",
   "lastEditTime": 1753427110351
  }
 },
 "nbformat_minor": 5,
 "nbformat": 4,
 "cells": [
  {
   "cell_type": "markdown",
   "id": "a503aea0-ecb9-488b-9892-c29d1576a643",
   "metadata": {
    "name": "cell1",
    "collapsed": false
   },
   "source": "# Data Farme Selections and Actions\n\nCourse Outline:\n\n1. Outline Snowpark Architecture\n\n    1. Lazy Evaluation\n\n    2. Use Key Objects : Snowpark DataFrames\n\n2. Enhance Performance in Snowpark Applications: Synchronous versus Asych calls\n\n3. Apply operations for filtering and transforming data:\n\n    1. Columns\n\n    2. Data type casting\n\n    3. Rows and Data extraction from a Row object\n\n\nFor more information follow the below links:\n1. [Working with dataframe in Snowpark python](https://docs.snowflake.com/en/developer-guide/snowpark/python/working-with-dataframes#specifying-columns-and-expressions)\n\n2. [Snowflake.snowpark.Dataframe.select](https://docs.snowflake.com/en/developer-guide/snowpark/reference/python/latest/snowpark/api/snowflake.snowpark.DataFrame.select)"
  },
  {
   "cell_type": "code",
   "id": "ab051e82-1b4f-43bf-9431-86493e7b6f58",
   "metadata": {
    "language": "python",
    "name": "cell2"
   },
   "outputs": [],
   "source": "#creating a session:\n\nfrom snowflake.snowpark.context import get_active_session\n\nsession =  get_active_session()",
   "execution_count": null
  },
  {
   "cell_type": "code",
   "id": "b6a7d4fd-320c-4980-9f62-7722037ef7e4",
   "metadata": {
    "language": "python",
    "name": "cell3"
   },
   "outputs": [],
   "source": "# creating sample dataframe:\ndf =  session.create_dataframe([[1,2,3,4],[5,6,7,8]])\ndf",
   "execution_count": null
  },
  {
   "cell_type": "code",
   "id": "4fddd00f-b2df-49bc-a109-be3b9e71351e",
   "metadata": {
    "language": "python",
    "name": "cell4"
   },
   "outputs": [],
   "source": "# Data frame with columns headers:\n\ndf =  session.create_dataframe(\n      [[1,2,3,4],[5,6,7,8]],\n    schema = [\"a\",\"b\",\"c\",\"d\"]\n)\ndf\n\ndf =  session.create_dataframe(\n      [[1,2,3,4],[5,6,7,8]]).to_df(\"a\",\"b\",\"c\",\"d\")\n\ndf\n",
   "execution_count": null
  },
  {
   "cell_type": "code",
   "id": "c96f0e36-13b6-4bdb-9de9-1efff10ac49a",
   "metadata": {
    "language": "python",
    "name": "cell5"
   },
   "outputs": [],
   "source": "#Some actions functions\ndf.schema\ndf.columns\ndf.queries\nres =  df.describe()\nres",
   "execution_count": null
  },
  {
   "cell_type": "markdown",
   "id": "bcdc8ca2-26f0-45c7-a06e-857376be8768",
   "metadata": {
    "name": "cell7",
    "collapsed": false
   },
   "source": "1. `df.schema` :- returns the schema ,i.e only first row containing name of schema.\n\n2. `df.columns` :- returns all the column names of the dataframe.\n\n3. `df.queries `:- returns the queries history of all the quries executed in the notebook.\n\n4. `df.describe()`:- returns the overall stats of the dataframe. Shows the overall statistical overview of dataframe."
  },
  {
   "cell_type": "code",
   "id": "cdcaaa94-1a91-4066-9a46-6e75183eb5c4",
   "metadata": {
    "language": "python",
    "name": "cell6"
   },
   "outputs": [],
   "source": "#renders dataframes as a text\ndf.show()",
   "execution_count": null
  },
  {
   "cell_type": "code",
   "id": "a3b87a6a-d9ea-452b-80aa-64f35a28601c",
   "metadata": {
    "language": "python",
    "name": "cell8"
   },
   "outputs": [],
   "source": "# renders dataframe as a collections of row objects\ndf.collect()",
   "execution_count": null
  },
  {
   "cell_type": "code",
   "id": "6aa3d12b-071a-45dc-b6ad-c4f75e0cb68e",
   "metadata": {
    "language": "python",
    "name": "cell9"
   },
   "outputs": [],
   "source": "#extract data from row\ndf.collect()[0].as_dict()",
   "execution_count": null
  },
  {
   "cell_type": "code",
   "id": "c70b2055-2e41-4cb7-b71f-f7fb0455a5f6",
   "metadata": {
    "language": "python",
    "name": "cell10"
   },
   "outputs": [],
   "source": "print(f\"Total Rows:{df.count()}\") #Count method\nprint(f\"Values 1 in the first row:{df.collect()[0].count(1)}\")",
   "execution_count": null
  },
  {
   "cell_type": "code",
   "id": "5f433758-2fc0-4cbb-83d1-88d709f72141",
   "metadata": {
    "language": "python",
    "name": "cell11"
   },
   "outputs": [],
   "source": "#Select specific columns:\nfrom snowflake.snowpark.functions import col\n\ndf.select(\"c\",col(\"c\"), df[\"c\"], df.c, df.col(\"c\"))\n",
   "execution_count": null
  },
  {
   "cell_type": "code",
   "id": "4c237ed3-2c5c-4225-96ac-d4a525a416a2",
   "metadata": {
    "language": "python",
    "name": "cell12"
   },
   "outputs": [],
   "source": "#Columns as alias:\ndf2 =  df.select(\"c\",col(\"c\").alias(\"c2\"), df[\"c\"].as_(\"c3\"), df.c.name(\"c4\"))\ndf2.queries[\"queries\"][0]\ndf2",
   "execution_count": null
  },
  {
   "cell_type": "code",
   "id": "8452f896-25ef-42d6-b5c3-e434a8ce6327",
   "metadata": {
    "language": "python",
    "name": "cell13"
   },
   "outputs": [],
   "source": "#Casting for string types:\nfrom snowflake.snowpark.types import StringType\n\ndf.select(\n    df.c.cast(StringType()).alias(\"c1\"),\n    df.c.astype(StringType()).alias(\"c2\")\n)",
   "execution_count": null
  },
  {
   "cell_type": "code",
   "id": "b75626a5-0cc0-4a69-ba9d-a1a8bf2da699",
   "metadata": {
    "language": "python",
    "name": "cell14"
   },
   "outputs": [],
   "source": "#Using SQL Expression:\nfrom snowflake.snowpark.functions import sql_expr\n\ndf2 = df.select_expr(\"a+2\",\"cast(b as string)\")\ndf2\n\ndf2 =  df.select(\n    sql_expr(\"a+2\").as_(\"ex1\"),\n    sql_expr(\"cast(b as string)\").as_(\"ex2\")\n)\ndf2",
   "execution_count": null
  },
  {
   "cell_type": "code",
   "id": "4a28e40c-1506-4e05-be2b-249c78b991a0",
   "metadata": {
    "language": "python",
    "name": "cell15"
   },
   "outputs": [],
   "source": "# Remove existing columns:\ndf.drop(\"b\",\"d\")",
   "execution_count": null
  },
  {
   "cell_type": "code",
   "id": "8b748d65-e589-4ebe-a943-2bc43c767c8b",
   "metadata": {
    "language": "python",
    "name": "cell16"
   },
   "outputs": [],
   "source": "#Rename columns:\ndf.rename({col(\"a\"): \"a2\", \"b\": \"b2\"})",
   "execution_count": null
  },
  {
   "cell_type": "code",
   "id": "9c79a5fe-f77e-4dd1-9a90-7ef90eefe725",
   "metadata": {
    "language": "python",
    "name": "cell17"
   },
   "outputs": [],
   "source": "#Asynch and Synch Queries:\nfrom snowflake.snowpark.functions import lit\n\n#add new columns\ndf.with_column(\"e\",df.a + df.b\n              ).with_columns([\"f\",\"g\"],[lit(\"11\"),lit(\"12\")]\n            ).with_column_renamed(\"a\",\"a2\")",
   "execution_count": null
  },
  {
   "cell_type": "code",
   "id": "fadf2b28-4fa9-49e3-9ab6-54b504795e1b",
   "metadata": {
    "language": "python",
    "name": "cell18"
   },
   "outputs": [],
   "source": "#Asynch Job\njob =  df2.collect_nowait()\njob.query",
   "execution_count": null
  },
  {
   "cell_type": "code",
   "id": "80d6043a-d3f2-473f-8760-a4800b54e283",
   "metadata": {
    "language": "python",
    "name": "cell19"
   },
   "outputs": [],
   "source": "df =  job.result()\ndf",
   "execution_count": null
  },
  {
   "cell_type": "code",
   "id": "bc7a7b90-309f-4941-a849-4fb295698959",
   "metadata": {
    "language": "python",
    "name": "cell20"
   },
   "outputs": [],
   "source": "df =  job.to_df()\ndf",
   "execution_count": null
  },
  {
   "cell_type": "code",
   "id": "90f130bd-8ed6-4bac-84a4-c3eccbb157ed",
   "metadata": {
    "language": "python",
    "name": "cell21"
   },
   "outputs": [],
   "source": "job.is_done()",
   "execution_count": null
  },
  {
   "cell_type": "code",
   "id": "4aaa570b-1e26-4055-b4c8-093c92d52573",
   "metadata": {
    "language": "python",
    "name": "cell22"
   },
   "outputs": [],
   "source": "# (try to) cancel AsyncJob\njob = session.sql(\"select SYSTEM$WAIT(3)\").collect_nowait()\njob.cancel()\njob.is_done()",
   "execution_count": null
  },
  {
   "cell_type": "code",
   "id": "bfa2da33-c9e3-4802-9f4d-7eac9d298793",
   "metadata": {
    "language": "python",
    "name": "cell23"
   },
   "outputs": [],
   "source": "job.is_done()",
   "execution_count": null
  }
 ]
}