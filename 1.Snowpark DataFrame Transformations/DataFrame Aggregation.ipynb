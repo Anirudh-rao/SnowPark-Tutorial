{
 "metadata": {
  "kernelspec": {
   "display_name": "Streamlit Notebook",
   "name": "streamlit"
  },
  "lastEditStatus": {
   "notebookId": "c6bhthz4ujigmswioy2q",
   "authorId": "2857618133917",
   "authorName": "ROOK",
   "authorEmail": "anirudh.rao@gds.ey.com",
   "sessionId": "9dfd81e0-1779-499f-95dc-22d520879cb5",
   "lastEditTime": 1753776604642
  }
 },
 "nbformat_minor": 5,
 "nbformat": 4,
 "cells": [
  {
   "cell_type": "markdown",
   "id": "656f276b-e7b5-4cd3-9fbc-8071f411b9b2",
   "metadata": {
    "name": "cell1",
    "collapsed": false
   },
   "source": "# Data Frame Aggregation\n\nIn Dataframe aggregation we will pefrom aggregate and set based opertions on dataframes.\n\nFor more information follow the below links:\n\n1. [snowflake.snowpark.DataFrame.group_by](https://docs.snowflake.com/en/developer-guide/snowpark/reference/python/latest/snowpark/api/snowflake.snowpark.DataFrame.group_by)\n\n2. [snowflake.snowpark.RelationalGroupedDataFrame](https://docs.snowflake.com/en/developer-guide/snowpark/reference/python/latest/snowpark/api/snowflake.snowpark.RelationalGroupedDataFrame#snowflake.snowpark.RelationalGroupedDataFrame)\n\n3. [How to Create a Complex Query with Snowpark DataFrame in Python](https://medium.com/snowflake/how-to-create-a-complex-query-with-snowpark-dataframe-in-python-2d31b9e0961b)"
  },
  {
   "cell_type": "code",
   "id": "559b16f3-4942-4b6d-899d-2cc7671e19b6",
   "metadata": {
    "language": "python",
    "name": "cell2"
   },
   "outputs": [],
   "source": "#Importing libraries\nfrom snowflake.snowpark.functions import *\nfrom snowflake.snowpark.context import get_active_session\n\nsession = get_active_session()",
   "execution_count": null
  },
  {
   "cell_type": "code",
   "id": "46824982-cb3f-4b0d-b3e3-0929b3e15f48",
   "metadata": {
    "language": "python",
    "name": "cell3"
   },
   "outputs": [],
   "source": "df= session.table('SNOWPARK_DB.SOURCED.EMPLOYEES')\ndf",
   "execution_count": null
  },
  {
   "cell_type": "code",
   "id": "88f4079f-ced4-4a79-9612-ef2156608123",
   "metadata": {
    "language": "python",
    "name": "cell4"
   },
   "outputs": [],
   "source": "res = df.agg({\"salary\":\"sum\",\"*\":\"count\"})\nres\nres = df.agg((\"salary\", \"sum\"), (\"*\", \"count\"))\nres\nres = df.agg(sum(\"salary\").alias(\"s\"), count(\"*\").alias(\"c\"))\nres",
   "execution_count": null
  },
  {
   "cell_type": "code",
   "id": "24f842f8-9dfe-4777-9fb5-92bded369f73",
   "metadata": {
    "language": "python",
    "name": "cell5"
   },
   "outputs": [],
   "source": "#Group by:\nres = df.group_by(\"department\").agg({\"salary\": \"sum\", \"*\": \"count\"})\nres\nres = df.group_by(\"department\").sum(\"salary\")\nres\nres = df.group_by(\"department\").function(\"sum\")(\"salary\")\nres",
   "execution_count": null
  },
  {
   "cell_type": "code",
   "id": "cce5f141-daf2-4564-bcda-9698a3e503e3",
   "metadata": {
    "language": "python",
    "name": "cell6"
   },
   "outputs": [],
   "source": "df.group_by(\"department\").agg((\"salary\",\"sum\"),(\"salary\",\"max\"))\n",
   "execution_count": null
  },
  {
   "cell_type": "code",
   "id": "8ecdaa93-e0f6-4e79-a690-59dd1d462544",
   "metadata": {
    "language": "python",
    "name": "cell7"
   },
   "outputs": [],
   "source": "#Drop Duplicate\ndf.select(\"department\").distinct()",
   "execution_count": null
  },
  {
   "cell_type": "code",
   "id": "84e34b2c-8ce4-49e5-886d-41de43284dc4",
   "metadata": {
    "language": "python",
    "name": "cell8"
   },
   "outputs": [],
   "source": "#Employees top salary per department:\ndf.sort(\"salary\").drop_duplicates(\"department\")",
   "execution_count": null
  },
  {
   "cell_type": "code",
   "id": "aa71dd39-179f-443d-b7b0-a8eb6782fb29",
   "metadata": {
    "language": "python",
    "name": "cell9"
   },
   "outputs": [],
   "source": "from snowflake.snowpark import GroupingSets\n\ngs = GroupingSets([col(\"department\")], [col(\"job\")])\ndf.group_by_grouping_sets(gs).count()\n",
   "execution_count": null
  },
  {
   "cell_type": "code",
   "id": "b1ebd1b6-4b7d-4fd4-84fa-7c995b2ce104",
   "metadata": {
    "language": "python",
    "name": "cell10"
   },
   "outputs": [],
   "source": "from snowflake.snowpark.functions import grouping\n\ndf.group_by_grouping_sets(gs).agg([\n        count(\"*\").alias(\"count\"),\n        grouping(\"department\", \"job\").alias(\"g\")\n    ]).sort(\"g\", \"department\", \"job\")",
   "execution_count": null
  },
  {
   "cell_type": "code",
   "id": "bb3b0028-de2c-4e3b-b977-05ca53a87854",
   "metadata": {
    "language": "python",
    "name": "cell11"
   },
   "outputs": [],
   "source": "df2 = df.rollup(\"department\", \"job\").count()\ndf2\n\ndf2 = df.rollup(\"department\", \"job\").agg([\n        count(\"*\").alias(\"count\"),\n        grouping(\"department\", \"job\").alias(\"g\")\n    ]).sort(\"g\", \"department\", \"job\")\ndf2",
   "execution_count": null
  },
  {
   "cell_type": "code",
   "id": "d59e521a-3710-4261-960f-c19566cc9a5f",
   "metadata": {
    "language": "python",
    "name": "cell12"
   },
   "outputs": [],
   "source": "df2 = df.cube(\"department\", \"job\").count()\ndf2\n\ndf2 = df.cube(\"department\", \"job\").agg([\n        count(\"*\").alias(\"count\"),\n        grouping(\"department\", \"job\").alias(\"g\")\n    ]).sort(\"g\", \"department\", \"job\")\ndf2",
   "execution_count": null
  },
  {
   "cell_type": "code",
   "id": "65ca3078-a1ec-4a30-b61e-e96415ecbc5c",
   "metadata": {
    "language": "python",
    "name": "cell13"
   },
   "outputs": [],
   "source": "df2 = df.select(\"department\", \"job\", \"salary\"\n    ).filter(col(\"job\").isin(['CLERK', 'MANAGER', 'ACCOUNTANT']))\ndf2\n\n# CROSSTAB\ndfc = df2.crosstab(\"department\", \"job\")\ndfc",
   "execution_count": null
  },
  {
   "cell_type": "code",
   "id": "992036e4-a12a-4a61-868a-4e7b384d0ecc",
   "metadata": {
    "language": "python",
    "name": "cell14"
   },
   "outputs": [],
   "source": "df3 = df2.group_by(\"department\", \"job\").sum(\"salary\")\ndf3\n\n# PIVOT\ndfp = df2.pivot(\"job\", ['CLERK', 'MANAGER', 'ACCOUNTANT']).sum(\"salary\")\ndfp\n\n# UNPIVOT\ndfu = dfp.unpivot(\"salary\", \"job\", [\"'CLERK'\", \"'MANAGER'\", \"'ACCOUNTANT'\"])\ndfu",
   "execution_count": null
  }
 ]
}