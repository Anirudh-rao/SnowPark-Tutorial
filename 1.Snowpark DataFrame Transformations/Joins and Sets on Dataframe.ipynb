{
 "metadata": {
  "kernelspec": {
   "display_name": "Streamlit Notebook",
   "name": "streamlit"
  },
  "lastEditStatus": {
   "notebookId": "mzkmqjv5n5jbzmilti5v",
   "authorId": "2857618133917",
   "authorName": "ROOK",
   "authorEmail": "anirudh.rao@gds.ey.com",
   "sessionId": "be02f666-7d65-4375-b44d-673a46f5e9e3",
   "lastEditTime": 1753682081509
  }
 },
 "nbformat_minor": 5,
 "nbformat": 4,
 "cells": [
  {
   "cell_type": "markdown",
   "id": "702c8f6d-a74b-441e-b371-bb92ed653add",
   "metadata": {
    "name": "cell1",
    "collapsed": false
   },
   "source": "# Joins and Sets on Dataframe\n\nWe will cover:\n\n1. Clean and Encrich Data using Snowpark for Python\n    \n    a. Perform Joins\n\n2. Perform Aggregate and Set based Operations on Dataframe\n\n    a. Union/Intersect/Except\n\n\nFor more information follow the below links:\n\n1. [Working with DataFrames in Snowpark Python]('https://docs.snowflake.com/en/developer-guide/snowpark/python/working-with-dataframes#joining-dataframes')\n\n2. [Joins in Snowflake Snowpark]('https://thinketl.com/joins-in-snowflake-snowpark/')\n"
  },
  {
   "cell_type": "code",
   "id": "c8b80876-4e23-4e6d-871a-53b79f7da85d",
   "metadata": {
    "language": "python",
    "name": "cell2"
   },
   "outputs": [],
   "source": "from snowflake.snowpark.context import get_active_session\n\nsession =  get_active_session()",
   "execution_count": null
  },
  {
   "cell_type": "code",
   "id": "1bfa4c3d-40bf-4cfc-89bd-b123b42b1f14",
   "metadata": {
    "language": "python",
    "name": "cell3"
   },
   "outputs": [],
   "source": "# create two related test dataframes\npersons = session.create_dataframe([\n    [1, \"John\", 2], [2, \"Mary\", None], [3, \"Mark\", 2]],\n    schema=[\"id\", \"name\", \"id_parent\"])\npersons\n\ndata = session.create_dataframe([\n    [1, \"Teacher\", 28], [2, \"Engineer\", 22], [4, \"Architect\", 45]],\n    schema=[\"id\", \"profession\", \"age\"])\ndata",
   "execution_count": null
  },
  {
   "cell_type": "code",
   "id": "d49111af-9009-4c0b-af3e-8889847772ea",
   "metadata": {
    "language": "python",
    "name": "cell4"
   },
   "outputs": [],
   "source": "#Inner Joins:\n\npersons.join(data,'id')",
   "execution_count": null
  },
  {
   "cell_type": "code",
   "id": "e1840569-c887-4e62-9198-0afda6c5db5d",
   "metadata": {
    "language": "python",
    "name": "cell5"
   },
   "outputs": [],
   "source": "#Natural Joins\npersons.natural_join(data)",
   "execution_count": null
  },
  {
   "cell_type": "code",
   "id": "3ac300bd-bc47-4779-aeb0-db13f1df8409",
   "metadata": {
    "language": "python",
    "name": "cell6"
   },
   "outputs": [],
   "source": "#Joins with Same columns\npersons.join(data,persons.col(\"id\")  == data.col(\"id\"))",
   "execution_count": null
  },
  {
   "cell_type": "code",
   "id": "a0fb2d2f-d3ba-4b1f-b312-6baebc1546aa",
   "metadata": {
    "language": "python",
    "name": "cell7"
   },
   "outputs": [],
   "source": "# Renaming columns in Select\npersons.join(data,\n    persons.col(\"id\") == data.col(\"id\")\n    ).select(persons[\"id\"].alias(\"id_person\"), \"name\",\n             data[\"id\"].alias(\"id_data\"), \"profession\", \"age\")",
   "execution_count": null
  },
  {
   "cell_type": "code",
   "id": "4b1e3329-57a8-494b-9f5e-c3d1eea3a22f",
   "metadata": {
    "language": "python",
    "name": "cell8"
   },
   "outputs": [],
   "source": "# Overriding directly the auto-prefix\npersons.join(data,\n           persons.col(\"id\") == data.col(\"id\"),\n           lsuffix=\"_person\", rsuffix=\"_data\")",
   "execution_count": null
  },
  {
   "cell_type": "code",
   "id": "79b0b494-e84d-49c7-a186-b9b6631b6048",
   "metadata": {
    "language": "python",
    "name": "cell9"
   },
   "outputs": [],
   "source": "# Left Outer Join\npersons.join(data,persons.col(\"id\") == data.col(\"id\"),how=\"left\")",
   "execution_count": null
  },
  {
   "cell_type": "code",
   "id": "3f035642-a6ba-4fa8-9174-534a2a782928",
   "metadata": {
    "language": "python",
    "name": "cell10"
   },
   "outputs": [],
   "source": "# Left Anti Join\npersons.join(data,\n    persons.col(\"id\") == data.col(\"id\"),\n    how=\"leftanti\")",
   "execution_count": null
  },
  {
   "cell_type": "code",
   "id": "7c52458a-0836-4824-a5a0-714ea5b1033e",
   "metadata": {
    "language": "python",
    "name": "cell11"
   },
   "outputs": [],
   "source": "# Cross Join\npersons.join(data, how=\"cross\")",
   "execution_count": null
  },
  {
   "cell_type": "code",
   "id": "3ec32166-0016-44e1-b3b9-096d48d25863",
   "metadata": {
    "language": "python",
    "name": "cell12"
   },
   "outputs": [],
   "source": "#Sefl Join\npersons.join(persons,\n    persons[\"id\"] == persons[\"id_parent\"])",
   "execution_count": null
  },
  {
   "cell_type": "code",
   "id": "c5682dc6-bfb6-4fcd-95eb-694056716b9d",
   "metadata": {
    "language": "python",
    "name": "cell13"
   },
   "outputs": [],
   "source": "# fix for self-join\nfrom copy import copy\nparents = copy(persons)\n\nparents.join(persons,\n    persons[\"id_parent\"] == parents[\"id\"]\n    ).select(\n        persons[\"name\"].alias(\"child\"),\n        parents[\"name\"].alias(\"parent\"))",
   "execution_count": null
  },
  {
   "cell_type": "code",
   "id": "ffdd0a5b-a270-4ddc-a079-3b79f3e83f35",
   "metadata": {
    "language": "python",
    "name": "cell14"
   },
   "outputs": [],
   "source": "# other two test data frames for set operations\nemployees = session.create_dataframe([\n    [\"John\", 28], [\"Mary\", 22], [\"Mark\", 51]],\n    schema=[\"name\", \"age\"])\nemployees\n\ncustomers = session.create_dataframe([\n    [\"John\", 28], [\"Adele\", 18], [\"George\", 34], [\"Mark\", 51]],\n    schema=[\"full_name\", \"customer_age\"])\ncustomers",
   "execution_count": null
  },
  {
   "cell_type": "code",
   "id": "919c3cb5-451b-4a62-a93f-fa96d2ddaae4",
   "metadata": {
    "language": "python",
    "name": "cell15"
   },
   "outputs": [],
   "source": "employees.union(customers)",
   "execution_count": null
  },
  {
   "cell_type": "code",
   "id": "cac174eb-6c80-43e9-b5ac-6283502a1bc0",
   "metadata": {
    "language": "python",
    "name": "cell16"
   },
   "outputs": [],
   "source": "employees.union_all(customers)",
   "execution_count": null
  },
  {
   "cell_type": "code",
   "id": "12165d41-a390-4e4e-9c6e-ab50d2fc48b5",
   "metadata": {
    "language": "python",
    "name": "cell17"
   },
   "outputs": [],
   "source": "# union by name will match sets by their column names\ncustomers2 = customers.select(\n    customers[\"customer_age\"].alias(\"age\"),\n    customers[\"full_name\"].alias(\"name\"))\nemployees.union_by_name(customers2)",
   "execution_count": null
  },
  {
   "cell_type": "code",
   "id": "504111cd-62d9-48b5-99cb-4ea1e2a488f4",
   "metadata": {
    "language": "python",
    "name": "cell18"
   },
   "outputs": [],
   "source": "employees.intersect(customers)",
   "execution_count": null
  },
  {
   "cell_type": "code",
   "id": "45dc7f55-5c19-4980-8e63-ff6942231ec7",
   "metadata": {
    "language": "python",
    "name": "cell19"
   },
   "outputs": [],
   "source": "#Subtract/Minus/Except\nemployees.subtract(customers)",
   "execution_count": null
  }
 ]
}