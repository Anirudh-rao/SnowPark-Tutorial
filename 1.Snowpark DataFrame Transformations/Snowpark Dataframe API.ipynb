{
 "cells": [
  {
   "cell_type": "code",
   "execution_count": null,
   "id": "9116911a-2c89-49d9-9712-937425364047",
   "metadata": {
    "language": "sql",
    "name": "cell1"
   },
   "outputs": [],
   "source": [
    "--SQL Query \n",
    "select n_name as country, count(c.*) as tot_customers\n",
    "from snowflake_sample_data.tpch_sf1.nation n\n",
    "join snowflake_sample_data.tpch_sf1.customer c\n",
    "on n_nationkey = c_nationkey\n",
    "-- where n_name IN ('CANADA', 'BRAZIL', 'CHINA')\n",
    "group by n_name\n",
    "order by n_name; "
   ]
  },
  {
   "cell_type": "code",
   "execution_count": null,
   "id": "956bdfcb-cfc1-4a80-9839-8c40f8c38a53",
   "metadata": {
    "language": "python",
    "name": "cell2"
   },
   "outputs": [],
   "source": [
    "from snowflake.snowpark.context import get_active_session\n",
    "\n",
    "#To Get the Active Session\n",
    "sesssion =  get_active_session()\n",
    "conn = sesssion.connection\n",
    "query = \"\"\"\n",
    "select n_name as country, count(c.*) as tot_customers\n",
    "from snowflake_sample_data.tpch_sf1.nation n\n",
    "join snowflake_sample_data.tpch_sf1.customer c\n",
    "on n_nationkey = c_nationkey\n",
    "-- where n_name IN ('CANADA', 'BRAZIL', 'CHINA')\n",
    "group by n_name\n",
    "order by n_name\n",
    "\"\"\"\n",
    "\n",
    "qh =  sesssion.query_history()"
   ]
  },
  {
   "cell_type": "code",
   "execution_count": null,
   "id": "ca743a05-2997-4d15-8ca0-f0eb72f8df67",
   "metadata": {
    "language": "python",
    "name": "cell3"
   },
   "outputs": [],
   "source": [
    "# Pandas Dataframe \n",
    "df = conn.cursor().execute(query).fetch_pandas_all()\n",
    "df"
   ]
  },
  {
   "cell_type": "code",
   "execution_count": null,
   "id": "51d7278c-aaaa-481c-9e25-af9ced98334d",
   "metadata": {
    "language": "python",
    "name": "cell4"
   },
   "outputs": [],
   "source": [
    "# filter with Pandas\n",
    "df[df['COUNTRY'].isin(['CANADA','BRAZIL','CHINA'])]"
   ]
  },
  {
   "cell_type": "code",
   "execution_count": null,
   "id": "a58bcd24-c107-4cad-a741-3390cb432bef",
   "metadata": {
    "language": "python",
    "name": "cell5"
   },
   "outputs": [],
   "source": [
    "#Check with Generated SQL Queries\n",
    "qh.queries"
   ]
  },
  {
   "cell_type": "code",
   "execution_count": null,
   "id": "fe84fca3-1218-4f5c-bc64-6ca2f98f41ea",
   "metadata": {
    "language": "python",
    "name": "cell6"
   },
   "outputs": [],
   "source": [
    "# Snowpark Dataframe\n",
    "df = sesssion.sql(query)\n",
    "df"
   ]
  },
  {
   "cell_type": "code",
   "execution_count": null,
   "id": "413ed35b-7f0b-4061-bb6f-4489b8c35bb1",
   "metadata": {
    "language": "python",
    "name": "cell7"
   },
   "outputs": [],
   "source": [
    "# filter with Pandas\n",
    "df[df['COUNTRY'].isin(['CANADA','BRAZIL','CHINA'])]"
   ]
  },
  {
   "cell_type": "code",
   "execution_count": null,
   "id": "f0f8d399-b213-4bdf-939a-fd905f68fb81",
   "metadata": {
    "language": "python",
    "name": "cell8"
   },
   "outputs": [],
   "source": [
    "qh.queries"
   ]
  },
  {
   "cell_type": "markdown",
   "id": "fa1d7ca4",
   "metadata": {},
   "source": [
    "Snowpark Generates all the dataframe code in SQL. \n"
   ]
  }
 ],
 "metadata": {
  "kernelspec": {
   "display_name": "Streamlit Notebook",
   "name": "streamlit"
  },
  "lastEditStatus": {
   "authorEmail": "anirudh.rao@gds.ey.com",
   "authorId": "2857618133917",
   "authorName": "ROOK",
   "lastEditTime": 1752564742125,
   "notebookId": "ibaitwj7vsoh43uez4q6",
   "sessionId": "72dbab41-3b5b-4c75-b695-f6ff614141e5"
  }
 },
 "nbformat": 4,
 "nbformat_minor": 5
}
