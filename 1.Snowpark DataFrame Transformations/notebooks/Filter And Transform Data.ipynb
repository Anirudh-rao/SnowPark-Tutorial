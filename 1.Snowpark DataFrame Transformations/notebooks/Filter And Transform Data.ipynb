{
 "metadata": {
  "kernelspec": {
   "display_name": "Streamlit Notebook",
   "name": "streamlit"
  },
  "lastEditStatus": {
   "notebookId": "ihnduksxkai7dbrmgocq",
   "authorId": "2857618133917",
   "authorName": "ROOK",
   "authorEmail": "anirudh.rao@gds.ey.com",
   "sessionId": "9fd0045c-d059-464a-a865-e36ce3075a34",
   "lastEditTime": 1753439611009
  }
 },
 "nbformat_minor": 5,
 "nbformat": 4,
 "cells": [
  {
   "cell_type": "markdown",
   "id": "d5b598ce-01f2-4be1-be8c-34d6a7e768b1",
   "metadata": {
    "name": "cell1",
    "collapsed": false
   },
   "source": "# Filter and Transform Data:\n\n1. Use Scalar Functions and Operators\n\n2. Sort and Limit Results\n\n3. Input/Output(parameters)\n\n4. Snowpark Data farmes\n\n\nFor more information on this note book folllow the below links:\n\n1. [Specifying How Dataset should be transformed](https://docs.snowflake.com/en/developer-guide/snowpark/python/working-with-dataframes#specifying-how-the-dataset-should-be-transformed)\n\n2. [snowflake.snowpark.DataFrame.filter](https://docs.snowflake.com/en/developer-guide/snowpark/reference/python/latest/snowpark/api/snowflake.snowpark.DataFrame.filter) "
  },
  {
   "cell_type": "code",
   "id": "e0fb8365-5fa6-4da5-a24a-4e3f35953f5f",
   "metadata": {
    "language": "python",
    "name": "cell2"
   },
   "outputs": [],
   "source": "#Creating Session and Importing Libraries\nfrom snowflake.snowpark.context import get_active_session\nfrom snowflake.snowpark.functions import *\n\nsession =  get_active_session()",
   "execution_count": null
  },
  {
   "cell_type": "code",
   "id": "e550785f-3080-4646-8d05-af5cdd5d14f0",
   "metadata": {
    "language": "python",
    "name": "cell3"
   },
   "outputs": [],
   "source": "df = session.create_dataframe([3, None, 2, 1, None, 6, 5], schema=[\"a\"])\ndf",
   "execution_count": null
  },
  {
   "cell_type": "code",
   "id": "f674e6ac-9364-4bd6-8fe0-11e6ffdcd20a",
   "metadata": {
    "language": "python",
    "name": "cell4"
   },
   "outputs": [],
   "source": "#Order by Asc/Desc on the Column\nsort_df = df.sort(col(\"a\").desc())\nsort_df\n\nsort_df2 = df.sort(col(\"a\").asc())\nsort_df2",
   "execution_count": null
  },
  {
   "cell_type": "code",
   "id": "6c46903f-0958-403b-8251-204c2aea5cfd",
   "metadata": {
    "language": "python",
    "name": "cell5"
   },
   "outputs": [],
   "source": "#Sorting Colums with Nulls first\ndf.sort(col(\"a\").desc_nulls_first())",
   "execution_count": null
  },
  {
   "cell_type": "code",
   "id": "b87b0913-2ddd-4285-a5cc-8dd769a77e33",
   "metadata": {
    "language": "python",
    "name": "cell6"
   },
   "outputs": [],
   "source": "#Limit And Offset will help use provide a start and skip point\ndf.sort(col(\"a\").desc_nulls_first()).limit(2, 3)",
   "execution_count": null
  },
  {
   "cell_type": "code",
   "id": "4f319be9-a32f-491e-9de2-84fc113d8de5",
   "metadata": {
    "language": "python",
    "name": "cell7"
   },
   "outputs": [],
   "source": "#Arranging Null in descending order and Giving the first three\ndf.sort(col(\"a\").desc_nulls_first()).first(3)",
   "execution_count": null
  },
  {
   "cell_type": "code",
   "id": "958f116c-9671-4ee2-a018-a74256b54c6c",
   "metadata": {
    "language": "python",
    "name": "cell8"
   },
   "outputs": [],
   "source": "#Filtering :\ndf.filter(col(\"a\")%2==0)",
   "execution_count": null
  },
  {
   "cell_type": "code",
   "id": "314e1c91-33a9-4c06-a2cb-0a9199eebfef",
   "metadata": {
    "language": "python",
    "name": "cell9"
   },
   "outputs": [],
   "source": "#Not in + IS NULL Column Class:\ndf.filter(col(\"a\").isin([4, 5, 6]) | col(\"a\").is_null()\n    ).sort(col(\"a\").asc_nulls_last())",
   "execution_count": null
  },
  {
   "cell_type": "code",
   "id": "1456f206-8d20-4f07-b884-b55211c207cd",
   "metadata": {
    "language": "python",
    "name": "cell10"
   },
   "outputs": [],
   "source": "#Filtering using CASE:\ndf.select(when(col(\"a\")%2==0,lit(\"even\")).alias(\"a2\"))",
   "execution_count": null
  },
  {
   "cell_type": "code",
   "id": "b859a816-e835-4bfa-807f-1a559b0451c6",
   "metadata": {
    "language": "python",
    "name": "cell11"
   },
   "outputs": [],
   "source": "df.select(\n    when(col(\"a\") % 2 == 0,lit(\"even\")\n        ).when(col(\"a\") %2 ==0, lit(\"odd\")\n              ).alias(\"a2\")\n)",
   "execution_count": null
  },
  {
   "cell_type": "code",
   "id": "b80a566c-580e-436d-a6f4-d5eabad1c075",
   "metadata": {
    "language": "python",
    "name": "cell12"
   },
   "outputs": [],
   "source": "df.select(\n    when(col(\"a\") % 2 == 0, lit(\"even\")\n    ).when(col(\"a\") % 2 == 1, lit(\"odd\")\n    ).otherwise(lit(\"unknown\")\n    ).alias(\"a2\"))",
   "execution_count": null
  }
 ]
}