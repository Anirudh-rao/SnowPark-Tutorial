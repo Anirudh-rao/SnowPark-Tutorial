{
 "metadata": {
  "kernelspec": {
   "display_name": "Streamlit Notebook",
   "name": "streamlit"
  },
  "lastEditStatus": {
   "notebookId": "w3cntmgozhvkd4h2bktm",
   "authorId": "2857618133917",
   "authorName": "ROOK",
   "authorEmail": "anirudh.rao@gds.ey.com",
   "sessionId": "dc768cd1-4b07-4ca2-b365-52cf4393163d",
   "lastEditTime": 1753354897803
  }
 },
 "nbformat_minor": 5,
 "nbformat": 4,
 "cells": [
  {
   "cell_type": "markdown",
   "id": "d6435e5f-62c5-4916-9bcd-7106fb529eb5",
   "metadata": {
    "name": "cell11",
    "collapsed": false
   },
   "source": "## Brief History of Snowpark API'S\n\n1. Pyspark Dataframes was taken as an insipiration to Snowpark Dataframe\n\n2. Pandas inspired Pandas API on Spark and Pandas on Snowflake API\n\n3. ML Lib - Machine Learning in Pyspark - Inspire Snowpark ML\n\n4. One of the critical difference between pyspark and Snowpark is that\n\n    Pyspark uses mixedCase(ex:groupBy) , while snowpark uses snake_case(ex:group_by).\n\n    "
  },
  {
   "cell_type": "markdown",
   "id": "1a510292-c3a9-4b65-b599-e17242164e02",
   "metadata": {
    "name": "cell10",
    "collapsed": false
   },
   "source": "## Snowpark Architecture\n\nSnowpark under the backend converts all the snowpark dataframes into SQL queries and executes all of these queries in parallel in Snowflake. It also does some internal Optmization that will help in reduction of overall cost.\n\n![Snowflake architecture](https://miro.medium.com/v2/resize:fit:1100/format:webp/0*HAwmY9pOb5GSAIAh)"
  },
  {
   "cell_type": "code",
   "id": "efc01349-d1fb-41ab-ae22-612c37d13f4a",
   "metadata": {
    "language": "sql",
    "name": "cell2"
   },
   "outputs": [],
   "source": "Select \n    n_name as country,\n    count(c.*)as tot_customers\nFrom snowflake_sample_data.tpch_sf1.nation n\njoin snowflake_sample_data.tpch_sf1.customer c\non n_nationkey =  c_nationkey\nwhere \n    n_name in ('CANADA','BRAZIL','CHINA')\ngroup by n_name\norder by n_name\n    ",
   "execution_count": null
  },
  {
   "cell_type": "markdown",
   "id": "6372125e-eaf4-4a83-8caf-77d2dd830665",
   "metadata": {
    "name": "cell3",
    "collapsed": false
   },
   "source": "We use `snowflake.snowpark` Library and `get_active_session` function to connect to snowflake. \n\n**Note:-** In case your are using any **Streamlit** or **Snowpark Notebooks** , Snowflake will automatically create a new **session** and hence not need to externally be specified.\n\nFor more information refer the [link](https://docs.snowflake.com/en/developer-guide/snowpark/reference/python/latest/snowpark/api/snowflake.snowpark.Session#snowflake.snowpark.Session)\n\n\nFor the purpose of the lecture we will create a session."
  },
  {
   "cell_type": "code",
   "id": "5a07658a-564d-4180-83b6-9111f423c6b9",
   "metadata": {
    "language": "python",
    "name": "cell4"
   },
   "outputs": [],
   "source": "#Connecting to Snowflake:\nimport pandas as pd\nfrom snowflake.snowpark.context import get_active_session\n\n#Getting active_session:\nSession = get_active_session()\n\n\n#For External or Outside Python Connection:\n\n# import snowflake.connector\n\n# try:\n#     conn = snowflake.connector.connect(\n#             user='<USERNAME>',\n#             password = '<PWD>',\n#             account = '<ACCOUNT_IDENTIFIER>',\n#             role = '<ACCOUNT_ROLE_NAME>',\n#             database = '<DATABSE_NAME>'\n#         )\n#     cur = con.cursor()\n# except Exception as e:\n#     logging.error(f\"Failed to connect to Snowflake:\")\n#     raise e\n",
   "execution_count": null
  },
  {
   "cell_type": "code",
   "id": "003979b8-099b-4e0c-8f65-d727f7eac714",
   "metadata": {
    "language": "python",
    "name": "cell5"
   },
   "outputs": [],
   "source": "#Executing SQL Queries:\nimport streamlit as st\n\nquery = \"\"\"\nSelect \n    n_name as country,\n    count(c.*)as tot_customers\nFrom snowflake_sample_data.tpch_sf1.nation n\njoin snowflake_sample_data.tpch_sf1.customer c\non n_nationkey =  c_nationkey\nwhere \n    n_name in ('CANADA','BRAZIL','CHINA')\ngroup by n_name\norder by n_name\n    \n\"\"\"\n#Using Snowflake connector:\n#res = cur.executre(query)\n\n#Using Pandas\n#df =  pd.read_sql(query,cur)\n\n\n#Using Snowpark:\ndf = Session.sql(query)\n\n\n\nst.dataframe(df)",
   "execution_count": null
  },
  {
   "cell_type": "code",
   "id": "9366023e-03e2-415b-bcd7-aac7437b54ba",
   "metadata": {
    "language": "python",
    "name": "cell6"
   },
   "outputs": [],
   "source": "# Accessing Query History:\nqh =  Session.query_history()\n",
   "execution_count": null
  },
  {
   "cell_type": "code",
   "id": "0c479ddb-4e0d-4270-88ca-7c67ab28cba5",
   "metadata": {
    "language": "python",
    "name": "cell7"
   },
   "outputs": [],
   "source": "# Filtering on Dataframes:\ndf[df['COUNTRY'].isin('CANDADA','BRAZIL','CHINA')]",
   "execution_count": null
  },
  {
   "cell_type": "code",
   "id": "1f66adfd-33f6-4121-9770-edaf970b4e5f",
   "metadata": {
    "language": "python",
    "name": "cell8"
   },
   "outputs": [],
   "source": "# Checking Generated Queries:\nqh.queries",
   "execution_count": null
  }
 ]
}