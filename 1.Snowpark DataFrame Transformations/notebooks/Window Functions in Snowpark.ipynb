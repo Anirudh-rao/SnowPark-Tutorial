{
 "metadata": {
  "kernelspec": {
   "display_name": "Streamlit Notebook",
   "name": "streamlit"
  },
  "lastEditStatus": {
   "notebookId": "edw6s2aczt5d2ibkxbir",
   "authorId": "2857618133917",
   "authorName": "ROOK",
   "authorEmail": "anirudh.rao@gds.ey.com",
   "sessionId": "afab14c9-48c3-46d4-86e9-0b416c012a72",
   "lastEditTime": 1753777418183
  }
 },
 "nbformat_minor": 5,
 "nbformat": 4,
 "cells": [
  {
   "cell_type": "markdown",
   "id": "99894642-4de6-4304-b9ae-2edb963d5b73",
   "metadata": {
    "name": "cell1",
    "collapsed": false
   },
   "source": "# Window Functions in Snowpark\n\nIn this section we will perform aggregate and set-based operations on Dataframes \n\nFor more links \n\n1. [How QUALIFY Works — With In-Depth Explanation and Examples](https://medium.com/snowflake/how-qualify-works-with-in-depth-explanation-and-examples-bbde9fc742db)\n\n2. [Window Class](https://docs.snowflake.com/en/developer-guide/snowpark/reference/python/latest/snowpark/window)\n\n3. [Window Functions in Snowflake Snowpark](https://thinketl.com/window-functions-in-snowflake-snowpark/)\n"
  },
  {
   "cell_type": "code",
   "id": "9690a384-e80f-4562-804b-c77a98605ecf",
   "metadata": {
    "language": "sql",
    "name": "cell2"
   },
   "outputs": [],
   "source": "Use Database SNOWPARK_DB;\nUSE SCHEMA SOURCED;\n\nSELECT * FROM SNOWPARK_DB.SOURCED.EMPLOYEES;",
   "execution_count": null
  },
  {
   "cell_type": "code",
   "id": "cedaab1c-f580-40a8-84a5-71c0d43f14ee",
   "metadata": {
    "language": "python",
    "name": "cell3"
   },
   "outputs": [],
   "source": "from snowflake.snowpark.context import get_active_session\n\nsession = get_active_session()\ndft = session.table(\"snowpark_db.sourced.employees\")\ndft",
   "execution_count": null
  },
  {
   "cell_type": "code",
   "id": "7322c540-98c5-42ff-a0f5-c77773cd759c",
   "metadata": {
    "language": "sql",
    "name": "cell4"
   },
   "outputs": [],
   "source": "-- List of employees, ranked by their salaries per department \nselect department, employee_name, salary,\n    row_number() over(\n        partition by department\n        order by salary desc) as rank\nfrom snowpark_db.sourced.employees;",
   "execution_count": null
  },
  {
   "cell_type": "code",
   "id": "7135163d-9487-42ff-bf39-f234f345c03b",
   "metadata": {
    "language": "python",
    "name": "cell5"
   },
   "outputs": [],
   "source": "from snowflake.snowpark import Window\nfrom snowflake.snowpark.functions import *\n\nwinSpec = Window.partition_by(\"department\").order_by(col(\"salary\").desc())\ndf = dft.select(\"department\", \"employee_name\", \"salary\",\n    row_number().over(winSpec).alias(\"rank\"))\ndf.queries\ndf",
   "execution_count": null
  },
  {
   "cell_type": "code",
   "id": "3924e999-8879-4cc1-b788-363b55fcd672",
   "metadata": {
    "language": "sql",
    "name": "cell6"
   },
   "outputs": [],
   "source": "-- list of employees with the highest salary in their department (using QUALIFY)\nselect department, employee_name, salary\nfrom snowpark_db.sourced.employees\nqualify row_number() over(\n    partition by department\n    order by salary desc) = 1\norder by department;",
   "execution_count": null
  },
  {
   "cell_type": "code",
   "id": "5d523aa1-2172-4246-b67e-50476c03cd12",
   "metadata": {
    "language": "python",
    "name": "cell7"
   },
   "outputs": [],
   "source": "df = dft.select(\"department\", \"employee_name\", \"salary\"\n    ).filter(row_number().over(winSpec)==1).sort(\"department\")\ndf.queries\ndf",
   "execution_count": null
  },
  {
   "cell_type": "code",
   "id": "3c5568f4-cc7d-482b-8546-31cf0218e415",
   "metadata": {
    "language": "python",
    "name": "cell8"
   },
   "outputs": [],
   "source": "df = dft.with_column(\"rank\", row_number().over(winSpec)\n    ).filter(col(\"rank\")==1).sort(\"department\")\ndf.queries\ndf",
   "execution_count": null
  },
  {
   "cell_type": "code",
   "id": "06692e11-9f57-424a-a9f2-c9be0cf5d407",
   "metadata": {
    "language": "sql",
    "name": "cell9"
   },
   "outputs": [],
   "source": "-- employees with total salaries in their department\nselect employee_name,\n    sum(salary) over (partition by department) as total_salaries\nfrom snowpark_db.sourced.employees\norder by 1;",
   "execution_count": null
  },
  {
   "cell_type": "code",
   "id": "19552ee4-183d-4e35-b1cc-01516b6827f0",
   "metadata": {
    "language": "python",
    "name": "cell10"
   },
   "outputs": [],
   "source": "df = dft.select(\"employee_name\", \n    sum(\"salary\").over(\n        Window.partition_by(\"department\")\n    ).alias(\"total_salaries\")\n    ).sort(\"employee_name\")\ndf.queries\ndf",
   "execution_count": null
  },
  {
   "cell_type": "code",
   "id": "8b2cd713-6b04-480b-8c66-96531d68e881",
   "metadata": {
    "language": "sql",
    "name": "cell11"
   },
   "outputs": [],
   "source": "-- cumulative sum of salaries for the employees, in alphabetical order\nselect employee_name, salary,\n    sum(salary) over (order by employee_name) as cum_salary\nfrom snowpark_db.sourced.employees\norder by employee_name;",
   "execution_count": null
  },
  {
   "cell_type": "code",
   "id": "3db27805-f00b-4adb-b6a8-57973902751f",
   "metadata": {
    "language": "python",
    "name": "cell12"
   },
   "outputs": [],
   "source": "df = dft.select(\"employee_name\", \"salary\", \n    sum(\"salary\").over(\n        Window.order_by(\"employee_name\")\n    ).alias(\"cum_salaries\")\n    ).sort(\"employee_name\")\ndf.queries\ndf",
   "execution_count": null
  },
  {
   "cell_type": "code",
   "id": "5ba65e7b-8735-448d-83e8-f52d02904a38",
   "metadata": {
    "language": "sql",
    "name": "cell13"
   },
   "outputs": [],
   "source": "-- max salary between current employee and the next, in alphabetical order\nselect employee_name, salary,\n    max(salary) over (\n        order by employee_name\n        rows between current row and 1 following) as max_salary\nfrom snowpark_db.Sourced.employees\norder by employee_name",
   "execution_count": null
  },
  {
   "cell_type": "code",
   "id": "0059ace0-88c0-44b9-80a1-4ec554759554",
   "metadata": {
    "language": "python",
    "name": "cell14"
   },
   "outputs": [],
   "source": "df = dft.select(\"employee_name\", \"salary\", \n    max(\"salary\").over(\n        Window.order_by(\"employee_name\").rows_between(Window.CURRENT_ROW, 1)\n    ).alias(\"max_salaries\")\n    ).sort(\"employee_name\")\ndf.queries\ndf",
   "execution_count": null
  }
 ]
}