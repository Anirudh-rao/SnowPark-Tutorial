{
 "metadata": {
  "kernelspec": {
   "display_name": "Streamlit Notebook",
   "name": "streamlit"
  },
  "lastEditStatus": {
   "notebookId": "kp455dbrfsgi4epc4js2",
   "authorId": "2857618133917",
   "authorName": "ROOK",
   "authorEmail": "anirudh.rao@gds.ey.com",
   "sessionId": "7d0c43e3-f9f0-4c98-bc7d-1efa4a7e1303",
   "lastEditTime": 1753852535089
  }
 },
 "nbformat_minor": 5,
 "nbformat": 4,
 "cells": [
  {
   "cell_type": "markdown",
   "id": "8bea34ef-c652-40ef-a85b-e567596251b6",
   "metadata": {
    "name": "cell1",
    "collapsed": false
   },
   "source": "# DML Operations in Snowpark\n\nPerform DML operations using Snowpark Dataframes\n\n    Delete Data\n\n    Upadate Data\n\n    Insert Data\n\n    Merge Data\n    \n\nFor more information follow the below links:\n\n1. [HOW TO: Write data into Snowflake from a Snowpark DataFrame?](https://thinketl.com/how-to-write-data-into-snowflake-from-a-snowpark-dataframe/)\n\n2. [Table](https://docs.snowflake.com/en/developer-guide/snowpark/reference/python/latest/snowpark/table)\n"
  },
  {
   "cell_type": "code",
   "id": "86953004-fcdf-48c1-8ff7-452b55eda900",
   "metadata": {
    "language": "python",
    "name": "cell2"
   },
   "outputs": [],
   "source": "#Creating  Active Session\nfrom snowflake.snowpark.types import *\nfrom snowflake.snowpark.functions import *\nfrom snowflake.snowpark.context import get_active_session\n\nsession = get_active_session()",
   "execution_count": null
  },
  {
   "cell_type": "code",
   "id": "2b984dde-9dc0-42ec-bbf7-4809f26ab985",
   "metadata": {
    "language": "python",
    "name": "cell3"
   },
   "outputs": [],
   "source": "schema = StructType([\n    StructField(\"key\", IntegerType()),\n    StructField(\"value\", StringType())])\ndf = session.create_dataframe(\n    [(10, \"old\"), (10, \"too_old\"), (11, \"old\")], \n    schema=schema)\n\ndf.write.save_as_table(\"snowpark_db.works.merge_t\", mode=\"overwrite\", table_type=\"temp\")\ntarget = session.table(\"snowpark_db.works.merge_t\")\ntarget",
   "execution_count": null
  },
  {
   "cell_type": "code",
   "id": "163b56e0-7617-4ac3-bf5c-60ab91e41920",
   "metadata": {
    "language": "python",
    "name": "cell4"
   },
   "outputs": [],
   "source": "#Merge Statement in Snowpark\nsource = session.create_dataframe(\n    [(10, \"new\"), (12, \"new\"), (13, \"old\")],\n    schema=schema)\n\nresult = target.merge(source,\n    (target[\"key\"] == source[\"key\"]) & (target[\"value\"] == \"too_old\"),\n    [when_not_matched().insert({\"key\": source[\"key\"]})])\nresult\ndf = target.sort(col(\"key\"), col(\"value\"))\ndf",
   "execution_count": null
  },
  {
   "cell_type": "code",
   "id": "a3339f67-5e72-45b6-8d6b-3e7b76dd77b4",
   "metadata": {
    "language": "python",
    "name": "cell5"
   },
   "outputs": [],
   "source": "#Delete\ntarget.delete((is_null(\"value\")))\ntarget",
   "execution_count": null
  },
  {
   "cell_type": "code",
   "id": "d9acefdf-7cbf-4a64-a506-691d4ad33b8b",
   "metadata": {
    "language": "python",
    "name": "cell6"
   },
   "outputs": [],
   "source": "#Update \ntarget.update({\"value\":\"changed\"}, target[\"key\"] == 11)\ntarget",
   "execution_count": null
  },
  {
   "cell_type": "code",
   "id": "90a8cfda-6a92-47b9-9f4d-e49552ba68ed",
   "metadata": {
    "language": "python",
    "name": "cell7"
   },
   "outputs": [],
   "source": "target.drop_table()\ntarget",
   "execution_count": null
  }
 ]
}