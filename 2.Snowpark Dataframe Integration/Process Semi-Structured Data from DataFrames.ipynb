{
 "metadata": {
  "kernelspec": {
   "display_name": "Streamlit Notebook",
   "name": "streamlit"
  },
  "lastEditStatus": {
   "notebookId": "fi2pvqsm2j5jxm6xeygi",
   "authorId": "2857618133917",
   "authorName": "ROOK",
   "authorEmail": "anirudh.rao@gds.ey.com",
   "sessionId": "cdfd64a0-43a0-4b23-9d11-befb92ec2d71",
   "lastEditTime": 1753853473403
  }
 },
 "nbformat_minor": 5,
 "nbformat": 4,
 "cells": [
  {
   "cell_type": "markdown",
   "id": "0e9bdd36-5772-45d5-8695-561b730f9d41",
   "metadata": {
    "name": "cell1",
    "collapsed": false
   },
   "source": "# Process Semi-Structured Data from DataFrames\n\n1. Create Snowpark Dataframes\n    \n    From Files(JSON, XML)\n\n2. Transform semi-structured data in DataFrames\n\n    Traverse Semi-structures Data\n\n    Explicitly Cast Values in Semi-Structured data\n\n    Flatten an array of Objects into rows\n\n    Load Semi-Structured Data into DataFrames\n\n\n3. Clean and Enrich data using Snowpark for Python\n\n    Perform Joins\n\n\nFor more information follow the below links:\n\n1. [Working with Semi-Structured Data](https://docs.snowflake.com/en/developer-guide/snowpark/python/working-with-dataframes#working-with-semi-structured-data)\n\n2. [Querying Semi-structured Data](https://docs.snowflake.com/en/user-guide/querying-semistructured)"
  },
  {
   "cell_type": "code",
   "id": "26177403-139f-4d2f-b837-ac4ebffd6187",
   "metadata": {
    "language": "python",
    "name": "cell2"
   },
   "outputs": [],
   "source": "from snowflake.snowpark.context import get_active_session\nfrom snowflake.snowpark.types import *\nfrom snowflake.snowpark.functions import *\n\nsession = get_active_session()",
   "execution_count": null
  },
  {
   "cell_type": "code",
   "id": "636c9615-20d6-4641-b23e-a67ca928273a",
   "metadata": {
    "language": "sql",
    "name": "cell3"
   },
   "outputs": [],
   "source": "use Database Snowpark_db;\nuse schema works;",
   "execution_count": null
  },
  {
   "cell_type": "code",
   "id": "5ca79447-6d4a-473b-9213-40199ca2dbc7",
   "metadata": {
    "language": "python",
    "name": "cell4"
   },
   "outputs": [],
   "source": "JsonData =  session.read.json('@snowpark_db.sourced.stage1/car-sales.ndjson')\nJsonData",
   "execution_count": null
  },
  {
   "cell_type": "code",
   "id": "b9f4f583-66c6-4521-bca3-0e3bee209413",
   "metadata": {
    "language": "python",
    "name": "cell5"
   },
   "outputs": [],
   "source": "#Accessing data using snowpark\ndf = JsonData.select(sql_expr(\"$1:customer[0].name::string\"))\ndf",
   "execution_count": null
  },
  {
   "cell_type": "code",
   "id": "8e2b0c52-837d-4335-83bc-b943bc6fc258",
   "metadata": {
    "language": "sql",
    "name": "cell6"
   },
   "outputs": [],
   "source": "Use Snowpark_db.sourced;\n\nSELECT src:dealership::string,\n    src:salesperson.name::string,\n    src['salesperson']['name'],\n    src:customer[0].name,\n    src:vehicle[0],\n    src:vehicle[0].price::int,\n    GET(src:vehicle[0], 'make'),\n    GET_PATH(src:vehicle, '[0]')\nFROM car_sales\nORDER BY 1;",
   "execution_count": null
  },
  {
   "cell_type": "code",
   "id": "46aa61b1-69c9-45ce-a2b5-eb5c1139e699",
   "metadata": {
    "language": "python",
    "name": "cell7"
   },
   "outputs": [],
   "source": "dft =  session.table(\"snowpark_db.sourced.car_sales\")\n\ndf = dft.select(\n    col(\"src\")[\"dealership\"].cast(StringType()),\n    col(\"src\")[\"salesperson\"][\"name\"].cast(StringType()),\n    col(\"src\")['salesperson']['name'],\n    col(\"src\")[\"customer\"][0][\"name\"],\n    sql_expr(\"src:customer[0].name::string\"),\n    col(\"src\")[\"vehicle\"][0],\n    col(\"src\")[\"vehicle\"][0][\"price\"].cast(IntegerType()),\n    get(col(\"src\")[\"vehicle\"][0], lit(\"make\")),\n    get_path(col(\"src\"), lit(\"vehicle[0]\"))\n)\ndf",
   "execution_count": null
  },
  {
   "cell_type": "code",
   "id": "6bbc804a-bcf6-46a8-b34b-f8a775d95710",
   "metadata": {
    "language": "sql",
    "name": "cell8"
   },
   "outputs": [],
   "source": "SELECT *\nFROM car_sales, LATERAL FLATTEN(src:vehicle[0]);",
   "execution_count": null
  },
  {
   "cell_type": "code",
   "id": "e08b73ea-e6a4-444a-896d-2bebe86e1245",
   "metadata": {
    "language": "python",
    "name": "cell9"
   },
   "outputs": [],
   "source": "df = dft.join_table_function(\"flatten\", col(\"src\")[\"vehicle\"]\n    ).select(col(\"value\"), col(\"value\")[\"make\"], col(\"value\")[\"extras\"])\ndf",
   "execution_count": null
  },
  {
   "cell_type": "code",
   "id": "e4a0c14e-7215-4a21-87da-c4e590b9e551",
   "metadata": {
    "language": "sql",
    "name": "cell10"
   },
   "outputs": [],
   "source": "SELECT v.value as vehicle, e.value as extras\nFROM car_sales,\n    LATERAL FLATTEN(src:vehicle) v,\n    LATERAL FLATTEN(v.value:extras) e;",
   "execution_count": null
  },
  {
   "cell_type": "code",
   "id": "853dd512-d3ab-4f4b-8eba-1f4c1262d4ff",
   "metadata": {
    "language": "python",
    "name": "cell11"
   },
   "outputs": [],
   "source": "df = dft.join_table_function(\"flatten\", col(\"src\")[\"vehicle\"]\n    ).select(col(\"value\").as_(\"vehicle\"))\ndf = df.join_table_function(\"flatten\", col(\"vehicle\")[\"extras\"]\n    ).select(col(\"vehicle\"), col(\"value\").as_(\"extras\"))\ndf",
   "execution_count": null
  }
 ]
}