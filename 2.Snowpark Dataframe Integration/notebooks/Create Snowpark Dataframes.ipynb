{
 "metadata": {
  "kernelspec": {
   "display_name": "Streamlit Notebook",
   "name": "streamlit"
  },
  "lastEditStatus": {
   "notebookId": "etv4wk3gkwhaekvyoter",
   "authorId": "2857618133917",
   "authorName": "ROOK",
   "authorEmail": "anirudh.rao@gds.ey.com",
   "sessionId": "7f29218c-93a7-4d00-8825-1415d221a2c3",
   "lastEditTime": 1753784763739
  }
 },
 "nbformat_minor": 5,
 "nbformat": 4,
 "cells": [
  {
   "cell_type": "markdown",
   "id": "6f5beea4-9456-493b-8238-43881e1a1e70",
   "metadata": {
    "name": "cell1",
    "collapsed": false
   },
   "source": "# Create Snowpark Dataframes\n\n1. Multiple Methods to create Snowflake dataFrames\n\n    From Snowflake tables/views\n\n    From Python Objects (list, dictonary)\n\n    From SQL Statements\n\n    From Files(JSON, CSV, Parquet,XML)\n\n    From Pandas DataFrames\n\n2. Schemas(Apply to dataframes)\n\n3. Data types(for exmple, IntegerType, StringType, DateType)\n\nFor more follow the below links:\n\n1. [snowflake.snowpark.DataFrameReader](https://docs.snowflake.com/en/developer-guide/snowpark/reference/python/latest/snowpark/api/snowflake.snowpark.DataFrameReader#snowflake.snowpark.DataFrameReader)\n\n2. [snowflake.snowpark.Session.create_dataframe]https://docs.snowflake.com/en/developer-guide/snowpark/reference/python/latest/snowpark/api/snowflake.snowpark.Session.create_dataframe)"
  },
  {
   "cell_type": "code",
   "id": "2e097628-f486-4de1-abaf-372de55ef5a0",
   "metadata": {
    "language": "python",
    "name": "cell2"
   },
   "outputs": [],
   "source": "#Getting Libraries\nfrom snowflake.snowpark.context import get_active_session\n\nsession =  get_active_session()\n",
   "execution_count": null
  },
  {
   "cell_type": "code",
   "id": "213fb22c-0308-4285-ba0c-5efb0bd57e8c",
   "metadata": {
    "language": "python",
    "name": "cell3"
   },
   "outputs": [],
   "source": "# create DataFrame with Single Row (def column headers)\ndf = session.create_dataframe([1, 2, 3, 4])\ndf\n\n# create DataFrame from array of rows (def column headers)\ndf = session.create_dataframe([[1, 2, 3, 4], [5, 6, 7, 8]])\ndf",
   "execution_count": null
  },
  {
   "cell_type": "code",
   "id": "db531a44-285d-4d90-9164-e4e6453d02f3",
   "metadata": {
    "language": "python",
    "name": "cell4"
   },
   "outputs": [],
   "source": "# create DataFrame with schema (i.e. column headers)\ndf = session.create_dataframe(\n    [[1, 2, 3, 4], [5, 6, 7, 8]],\n    schema=[\"c1\", \"c2\", \"c3\", \"c4\"])\ndf\n\ndf = session.create_dataframe(\n    [(1, 2, 3, 4), (5, 6, 7, 8)],\n    schema=[\"c1\", \"c2\", \"c3\", \"c4\"])\ndf\n\ndf = session.create_dataframe(\n    [[1, 2, 3, 4], [5, 6, 7, 8]]\n    ).to_df(\"c1\", \"c2\", \"c3\", \"c4\")\ndf",
   "execution_count": null
  },
  {
   "cell_type": "code",
   "id": "229dff7e-57a9-4084-8318-9a7c639577fb",
   "metadata": {
    "language": "python",
    "name": "cell5"
   },
   "outputs": [],
   "source": "# create DataFrame from Row objects\nfrom snowflake.snowpark import Row\n\nsession.create_dataframe([\n    Row(a=1, b=2, c=3, d=4),\n    Row(a=5, b=6, c=7, d=8)])",
   "execution_count": null
  },
  {
   "cell_type": "code",
   "id": "b7f5f289-aa12-48ba-91a8-facd1423317f",
   "metadata": {
    "language": "python",
    "name": "cell6"
   },
   "outputs": [],
   "source": "# create DataFrame from range of numeric values\nsession.range(1, 10, 2).to_df(\"header\")",
   "execution_count": null
  },
  {
   "cell_type": "code",
   "id": "7559204a-d6ad-450e-9122-4f48059fb401",
   "metadata": {
    "language": "python",
    "name": "cell7"
   },
   "outputs": [],
   "source": "# create DataFrame from table/view/stream data\nsession.table(\"snowflake_sample_data.tpch_sf1.customer\")",
   "execution_count": null
  },
  {
   "cell_type": "code",
   "id": "9e74f692-0f73-4815-a6a9-fd1649cf4231",
   "metadata": {
    "language": "python",
    "name": "cell8"
   },
   "outputs": [],
   "source": "#Create DataFrame from SQL query\nsession.sql(\n    \"\"\"select c_name\n    from snowflake_sample_data.tpch_sf1.customer\n    limit 3\"\"\"\n)",
   "execution_count": null
  },
  {
   "cell_type": "code",
   "id": "00abbc38-e2a7-4d02-802a-2fae8eeb92cd",
   "metadata": {
    "language": "python",
    "name": "cell9"
   },
   "outputs": [],
   "source": "#Show Columns or Just column name\ndf.schema\ndf.schema.names",
   "execution_count": null
  },
  {
   "cell_type": "code",
   "id": "cccaa865-40ae-4e21-9c69-1faf443fed4a",
   "metadata": {
    "language": "python",
    "name": "cell10"
   },
   "outputs": [],
   "source": "from snowflake.snowpark.types import *\n\nschema = StructType([\n    StructField(\"name\", StringType()),\n    StructField(\"age\",IntegerType())\n])\n\n# create DataFrame with schema (column headers + types)\ndf = session.create_dataframe(\n    [['John', 23], ['Mary', 21]],\n    schema)\ndf",
   "execution_count": null
  },
  {
   "cell_type": "code",
   "id": "c06e68b1-8ae1-4ae2-9d32-5c0de14cc9c5",
   "metadata": {
    "language": "python",
    "name": "cell11"
   },
   "outputs": [],
   "source": "#Create DataframReader Object\nreader = session.read\nreader = reader.option(\"field_delimiter\", \",\")\n\n\n# create a schema (for column headers + types)\nschema = StructType([\n    StructField(\"employee_id\", IntegerType()),\n    StructField(\"employee_name\", StringType())])\nschema\n\n# create DataFrame from uploaded CSV file (through the reader)\n# (must upload file in stage first!)\ndf =  reader.schema(schema).csv(\"@SNOWPARK_DB.SOURCED.STAGE1/employee-names.csv\")\ndf",
   "execution_count": null
  }
 ]
}