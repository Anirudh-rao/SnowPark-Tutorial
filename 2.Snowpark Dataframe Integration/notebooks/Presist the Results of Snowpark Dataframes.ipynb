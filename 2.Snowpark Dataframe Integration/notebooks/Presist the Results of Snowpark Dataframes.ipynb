{
 "metadata": {
  "kernelspec": {
   "display_name": "Streamlit Notebook",
   "name": "streamlit"
  },
  "lastEditStatus": {
   "notebookId": "al7rgjzwzbt3hgzk5znz",
   "authorId": "2857618133917",
   "authorName": "ROOK",
   "authorEmail": "anirudh.rao@gds.ey.com",
   "sessionId": "864b8f0f-537e-49cb-8e63-e2b735b3157e",
   "lastEditTime": 1753785890724
  }
 },
 "nbformat_minor": 5,
 "nbformat": 4,
 "cells": [
  {
   "cell_type": "markdown",
   "id": "3098fef9-8d18-41de-a17b-e75c70bffe04",
   "metadata": {
    "name": "cell1",
    "collapsed": false
   },
   "source": "# Presist Results of Snowpark Dataframe\n\n1. Presist the Results of snowpark DataFrames\n\n    Create views from DataFrames\n\n    Save DataFrame results as Snowflake Tables\n\n    Save DataFrame results as files in stage\n\n2. Enhance perfomance in Snowpark applications\n\n    Materialized results(caching)\n\n    caching DataFrame(using.cache_results) and understand why this is useful\n    \n    create a temprary table\n\nFor more information follows the below links:\n\n1. [snowflake.snowpark.DataFrameWriter](https://docs.snowflake.com/en/developer-guide/snowpark/reference/python/latest/snowpark/api/snowflake.snowpark.DataFrameWriter#snowflake.snowpark.DataFrameWriter)\n\n2.[snowflake.snowpark.DataFrame.cache_result](https://docs.snowflake.com/en/developer-guide/snowpark/reference/python/latest/snowpark/api/snowflake.snowpark.DataFrame.cache_result)\n\n3. [HOW TO: COPY Data from CSV Files INTO Snowflake Table using Snowpark?](https://thinketl.com/how-to-copy-data-from-csv-files-into-snowflake-table-using-snowpark/)\n\n4. [Using Persisted Query Results](https://docs.snowflake.com/en/user-guide/querying-persisted-results)"
  },
  {
   "cell_type": "code",
   "id": "eb68e59d-6fcf-4d07-af2f-754ae724d16a",
   "metadata": {
    "language": "python",
    "name": "cell2"
   },
   "outputs": [],
   "source": "#Creating Session:\nfrom snowflake.snowpark.functions import col\nfrom snowflake.snowpark.context import get_active_session\n\nsession = get_active_session()",
   "execution_count": null
  },
  {
   "cell_type": "code",
   "id": "7f003fe2-3aac-4e73-b788-5cbb51dc0300",
   "metadata": {
    "language": "python",
    "name": "cell3"
   },
   "outputs": [],
   "source": "#Creating Tables\n\ndf = session.table(\"SNOWFLAKE_SAMPLE_DATA.TPCH_SF1.CUSTOMER\"\n    ).filter(col(\"C_NATIONKEY\") == '15'\n    ).select(col(\"C_CUSTKEY\"), col(\"C_NAME\"))\ndf",
   "execution_count": null
  },
  {
   "cell_type": "code",
   "id": "3ec9591b-7630-4fa8-9a0e-c7279e093aa4",
   "metadata": {
    "language": "python",
    "name": "cell4"
   },
   "outputs": [],
   "source": "df.schema\ndf.schema.names",
   "execution_count": null
  },
  {
   "cell_type": "code",
   "id": "80657b99-0aa8-46e6-8399-727593887fdc",
   "metadata": {
    "language": "python",
    "name": "cell5"
   },
   "outputs": [],
   "source": "df.write.mode(\"overwrite\").save_as_table(\"snowpark_db.sourced.customer\")\nsession.table(\"snowpark_db.sourced.customer\").count()",
   "execution_count": null
  },
  {
   "cell_type": "code",
   "id": "03e25265-e007-4e8d-81c2-9630e0c06570",
   "metadata": {
    "language": "python",
    "name": "cell6"
   },
   "outputs": [],
   "source": "#Append: Will add data \ndf.write.mode(\"append\").save_as_table(\"snowpark_db.sourced.customer\")\nsession.table(\"snowpark_db.sourced.customer\").count()",
   "execution_count": null
  },
  {
   "cell_type": "code",
   "id": "2f323182-dda8-4d66-a051-02d8f527d7de",
   "metadata": {
    "language": "python",
    "name": "cell7"
   },
   "outputs": [],
   "source": "#Ignore will create duplicates\ndf.write.mode(\"ignore\").save_as_table(\"snowpark_db.sourced.customer\")\nsession.table(\"snowpark_db.sourced.customer\").count()",
   "execution_count": null
  },
  {
   "cell_type": "code",
   "id": "35a2e523-798f-4974-b914-6893be1d7e2a",
   "metadata": {
    "language": "python",
    "name": "cell8"
   },
   "outputs": [],
   "source": "#ErrorIfExists: Will throw error on \ndf.write.mode(\"errorifexists\").save_as_table(\"snowpark_db.sourced.customer\")\nsession.table(\"snowpark_db.sourced.customer\").count()",
   "execution_count": null
  },
  {
   "cell_type": "code",
   "id": "d7792340-6dbb-4eeb-8d9b-ef29171d3b32",
   "metadata": {
    "language": "python",
    "name": "cell9"
   },
   "outputs": [],
   "source": "df.write.mode(\"errorifexists\").save_as_table(\"snowpark_db.sourced.customer_t\", table_type=\"temp\")\nsession.table(\"snowpark_db.sourced.customer_t\").count()",
   "execution_count": null
  },
  {
   "cell_type": "code",
   "id": "5bd40ab0-52c9-416e-95f0-09a393edad25",
   "metadata": {
    "language": "python",
    "name": "cell10"
   },
   "outputs": [],
   "source": "#Will create Views\nview = df.create_or_replace_view(\"snowpark_db.works.customer_vw\")\nsession.table(\"snowpark_db.works.customer_vw\").count()",
   "execution_count": null
  },
  {
   "cell_type": "code",
   "id": "eddd8881-0b3b-4277-a311-6468f280b130",
   "metadata": {
    "language": "python",
    "name": "cell11"
   },
   "outputs": [],
   "source": "#Write to Location\ndf.write.copy_into_location(\n    \"@snowpark_db.sourced.stage1/customer.parquet\",\n    file_format_type=\"parquet\",\n    header=True, overwrite=True, single=True)",
   "execution_count": null
  },
  {
   "cell_type": "code",
   "id": "371b4837-9b0d-478f-93f8-7f189aadc9c8",
   "metadata": {
    "language": "sql",
    "name": "cell12"
   },
   "outputs": [],
   "source": "list @snowpark_db.sourced.stage1",
   "execution_count": null
  },
  {
   "cell_type": "code",
   "id": "818dd49f-73f5-4b65-b0fe-3723b7d143d0",
   "metadata": {
    "language": "python",
    "name": "cell13"
   },
   "outputs": [],
   "source": "#Reader method\ndf2 = session.read.parquet(\"@snowpark_db.sourced.stage1/customer.parquet\")\ndf2",
   "execution_count": null
  },
  {
   "cell_type": "code",
   "id": "8a8dce65-401a-4e1f-be80-2096c099aab8",
   "metadata": {
    "language": "python",
    "name": "cell14"
   },
   "outputs": [],
   "source": "# recreate table\nsession.sql(\"drop table if exists snowpark_db.sourced.customer_f\").collect()\n\n# COPY INTO table (from dataframe)\ndf2.copy_into_table(\"snowpark_db.sourced.customer_f\", force=True)\n\n# load table data\ndf = session.table(\"snowpark_db.sourced.customer_f\")\ndf",
   "execution_count": null
  },
  {
   "cell_type": "code",
   "id": "8f6f3774-7567-42d5-9639-352faee18e6f",
   "metadata": {
    "language": "python",
    "name": "cell15"
   },
   "outputs": [],
   "source": "#Create and Populate a temp table(From cache_results())\n\nsession.sql(\"create or replace temp table cache_t(num int)\").collect()\nsession.sql(\"insert into cache_t values (1), (2)\").collect()\ndf = session.table(\"cache_t\")\ndf",
   "execution_count": null
  },
  {
   "cell_type": "code",
   "id": "c808cb8c-a494-4e1e-9a80-4c2ce3bf1432",
   "metadata": {
    "language": "python",
    "name": "cell16"
   },
   "outputs": [],
   "source": "# cache df into a temp table\ndf_cached = df.cache_result()\ndf_cached.is_cached\ndf_cached",
   "execution_count": null
  },
  {
   "cell_type": "code",
   "id": "6328b163-c35d-4eb5-8da5-62643cafa26c",
   "metadata": {
    "language": "python",
    "name": "cell17"
   },
   "outputs": [],
   "source": "# the cached result does not change!\nsession.sql(\"insert into cache_t values (3)\").collect()\ndf\ndf_cached",
   "execution_count": null
  },
  {
   "cell_type": "code",
   "id": "f3cbf0a0-3406-43df-9670-15208161b2b2",
   "metadata": {
    "language": "python",
    "name": "cell18"
   },
   "outputs": [],
   "source": "# clear cached result\ndf_cached.drop_table()\ndf_cached",
   "execution_count": null
  }
 ]
}