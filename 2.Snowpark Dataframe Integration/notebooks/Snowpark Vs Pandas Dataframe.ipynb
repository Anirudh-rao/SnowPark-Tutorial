{
 "metadata": {
  "kernelspec": {
   "display_name": "Streamlit Notebook",
   "name": "streamlit"
  },
  "lastEditStatus": {
   "notebookId": "7sdv37occv23bk5rc4vp",
   "authorId": "2857618133917",
   "authorName": "ROOK",
   "authorEmail": "anirudh.rao@gds.ey.com",
   "sessionId": "8cd3fb8a-b81d-44ec-bf94-c7cf9a1e6cfc",
   "lastEditTime": 1753783372254
  }
 },
 "nbformat_minor": 5,
 "nbformat": 4,
 "cells": [
  {
   "cell_type": "markdown",
   "id": "fafdcf02-56be-4523-83f9-d9a5b2ced263",
   "metadata": {
    "name": "cell1",
    "collapsed": false
   },
   "source": "# Snowpark Vs Pandas DataFrame\n\nWe will cover how to  Enhance performance in Snowpark Applications with emphasis on Vectorization.\n\nFor More information follow the below links:\n\n1. [Pandas on Snowflake vs Snowpark DataFrame vs Snowpark pandas](https://cristian-70480.medium.com/pandas-on-snowflake-vs-snowpark-dataframe-vs-snowpark-pandas-8c7642aaabcc)\n\n2. [pandas on Snowflak](https://docs.snowflake.com/en/developer-guide/snowpark/python/pandas-on-snowflake)"
  },
  {
   "cell_type": "markdown",
   "id": "9cf12aa2-5223-4697-ad6d-c1aa3266fcc1",
   "metadata": {
    "name": "cell7",
    "collapsed": false
   },
   "source": "## Pandas VS Snowpark DataFrame\n\n| Pandas DataFrame | Snowpark DataFrame \n|------------------|-------------------|\n| Universeral popular Python library |  Leaves data in the database| \n| **in-memory** data copy(on the client machine)| **lazy evalutiaon** (~pyspark Data frames)| \n| all processing is in-memory(**no SQL**)| **generates/execs SQL query** \"on actions\" methods| \n|may required a lot of memory|keeps only a pointer to stored table data| \n|uses also for I/O in Vectorized UDFs|may require Snowpark Optmized warehouse| \n\n"
  },
  {
   "cell_type": "code",
   "id": "ca1e7fb9-b531-469d-93a0-eebfa4b4ddbf",
   "metadata": {
    "language": "python",
    "name": "cell2"
   },
   "outputs": [],
   "source": "#Getting libraries\n\nimport pandas as pd\nfrom snowflake.snowpark.context import get_active_session\n\n\nsession= get_active_session()",
   "execution_count": null
  },
  {
   "cell_type": "code",
   "id": "bad35975-bab1-4a35-b317-dae11bc7ab02",
   "metadata": {
    "language": "python",
    "name": "cell3"
   },
   "outputs": [],
   "source": "#Creating Dataframes\n\n#Using Pandas\ndf_pd = pd.DataFrame(\n    [(1, \"Steve\"), (2, \"Bob\")],\n    columns=[\"id\", \"name\"])\ndf_pd\n\n#Using Snowpark\ndf = session.create_dataframe(df_pd)\ndf",
   "execution_count": null
  },
  {
   "cell_type": "code",
   "id": "90a61525-dd4e-4168-aec1-71709ccf1d3a",
   "metadata": {
    "language": "python",
    "name": "cell4"
   },
   "outputs": [],
   "source": "# Save Pandas Dataframe to Temp/Transient Table:\ndf = session.write_pandas(df_pd,\n    \"pandas_table\",\n    auto_create_table=True,\n    table_type=\"temp\")\ndf",
   "execution_count": null
  },
  {
   "cell_type": "code",
   "id": "63e5d328-d0e7-4a98-ad58-5c068d2f3350",
   "metadata": {
    "language": "python",
    "name": "cell5"
   },
   "outputs": [],
   "source": "#Snowpark DF to Pandas DF\ndf_pd =  df.to_pandas()\ndf_pd\n\n# Snowpark DataFrame to pandas DataFrame batches (not all loaded in memory)\ndfp = df.to_pandas_batches()\ndfp",
   "execution_count": null
  },
  {
   "cell_type": "code",
   "id": "6b5eeaa8-c828-47f5-a978-bc0e99e50b2c",
   "metadata": {
    "language": "python",
    "name": "cell6"
   },
   "outputs": [],
   "source": "# Snowpark DataFrame to pandas in Snowpark DataFrame (different API!)\ndfsp = df.to_snowpark_pandas()\ndfsp",
   "execution_count": null
  }
 ]
}