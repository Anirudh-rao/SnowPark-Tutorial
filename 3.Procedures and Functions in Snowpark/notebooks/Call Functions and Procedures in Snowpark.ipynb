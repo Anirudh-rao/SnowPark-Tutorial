{
 "metadata": {
  "kernelspec": {
   "display_name": "Streamlit Notebook",
   "name": "streamlit"
  },
  "lastEditStatus": {
   "notebookId": "n4oxz6ttwyzws2rz45ku",
   "authorId": "2857618133917",
   "authorName": "ROOK",
   "authorEmail": "anirudh.rao@gds.ey.com",
   "sessionId": "e5123da6-513f-425a-ac23-314fb27a094b",
   "lastEditTime": 1753862056641
  }
 },
 "nbformat_minor": 5,
 "nbformat": 4,
 "cells": [
  {
   "cell_type": "markdown",
   "id": "ba78c8c0-615c-4bc0-b01d-826113084128",
   "metadata": {
    "name": "cell1",
    "collapsed": false
   },
   "source": "# Calling functions and Procedures in Snowpark\n\nWe will perform aggregate and set-based operations on dataframes\n\n1. Function\n2. Table Functions\n3. UDFs\n\nFor more information follow ths below links:\n1. [Calling Functions and Stored Procedures in Snowpark Python](https://docs.snowflake.com/en/developer-guide/snowpark/python/calling-functions)\n\n2. [CREATE FUNCTION](https://docs.snowflake.com/en/sql-reference/sql/create-function#python-handler)\n\n3. [CREATE PROCEDURE](https://docs.snowflake.com/en/sql-reference/sql/create-procedure#python-handler)"
  },
  {
   "cell_type": "code",
   "id": "2b42573c-71cf-49d4-bdd1-eacf3ddc6c7f",
   "metadata": {
    "language": "python",
    "name": "cell2"
   },
   "outputs": [],
   "source": "from snowflake.snowpark.functions import (col, lit, upper,\n    call_udf, udtf, function, call_function, call_table_function)\nfrom snowflake.snowpark.types import StructType, StructField, StringType\nfrom snowflake.snowpark.context import get_active_session",
   "execution_count": null
  },
  {
   "cell_type": "code",
   "id": "e0899865-38a4-40ca-aa79-b0930249366e",
   "metadata": {
    "language": "python",
    "name": "cell3"
   },
   "outputs": [],
   "source": "session = get_active_session()\ndf = session.create_dataframe(\n    [[1, 'John Doe'], [2, 'Mary Poppins']],\n    schema=[\"id\", \"name\"])\ndf",
   "execution_count": null
  },
  {
   "cell_type": "code",
   "id": "6c43f5a5-b81c-4c8f-8d39-32f7a266a21d",
   "metadata": {
    "language": "python",
    "name": "cell4"
   },
   "outputs": [],
   "source": "#Call Snowpark Wrapper to built in SQL Function\n\ndf.select(\"id\", upper(col(\"name\")).alias(\"upper_name\"))\n",
   "execution_count": null
  },
  {
   "cell_type": "code",
   "id": "ad838615-f66b-4488-8e71-9b1b7043488b",
   "metadata": {
    "language": "python",
    "name": "cell5"
   },
   "outputs": [],
   "source": "#Call Explicit wrapper to built in SQL function\ndf.select(\"id\", function(\"upper\")(col(\"name\")).alias(\"upper_name\"))",
   "execution_count": null
  },
  {
   "cell_type": "code",
   "id": "af21ff39-e8a3-4cd6-aaa9-3b0237e2ace3",
   "metadata": {
    "language": "python",
    "name": "cell6"
   },
   "outputs": [],
   "source": "#Call regiseterd stored proc\nsession.call(\"snowpark_db.sourced.procPython\",1)",
   "execution_count": null
  },
  {
   "cell_type": "code",
   "id": "faf3f3aa-8ad7-4f07-a075-f9d690f8e4e4",
   "metadata": {
    "language": "python",
    "name": "cell7"
   },
   "outputs": [],
   "source": "df.select(call_udf(\"snowpark_db.sourced.UdfPython\",col(\"id\")).alias(\"udf\"),\"name\")",
   "execution_count": null
  },
  {
   "cell_type": "code",
   "id": "3a38fa81-ace2-4dba-97b4-c8ae5d0bca2d",
   "metadata": {
    "language": "python",
    "name": "cell8"
   },
   "outputs": [],
   "source": "# define new UDTF handler\nclass MyClass:\n    def process(self, s):\n        yield (s, )\n        yield (s, )\n\n# create new anonymous UDTF + call it\nudtfPython = udtf(MyClass,\n    output_schema=StructType([StructField(\"s\", StringType())]),\n    input_types=[StringType()])\nsession.table_function(udtfPython(lit(\"abc\")))",
   "execution_count": null
  },
  {
   "cell_type": "code",
   "id": "6b6e4a67-b987-4c1a-ae71-9b044aa4ba49",
   "metadata": {
    "language": "python",
    "name": "cell9"
   },
   "outputs": [],
   "source": "# call built-in SQL table function on constant value\nsession.table_function(\"split_to_table\", lit(\"John Doe\"), lit(\" \"))",
   "execution_count": null
  },
  {
   "cell_type": "code",
   "id": "235bae98-b410-4707-b975-2c7efac88f80",
   "metadata": {
    "language": "python",
    "name": "cell10"
   },
   "outputs": [],
   "source": "# call built-in SQL table function on constant value\nsession.table_function(call_table_function(\"split_to_table\", lit(\"John Doe\"), lit(\" \")))",
   "execution_count": null
  },
  {
   "cell_type": "code",
   "id": "64e24e25-e2f8-464b-a6d5-6b9e71d43ad3",
   "metadata": {
    "language": "python",
    "name": "cell11"
   },
   "outputs": [],
   "source": "# call built-in SQL table function on table values\ndf.join_table_function(\"split_to_table\", col(\"name\"), lit(\" \"))",
   "execution_count": null
  }
 ]
}