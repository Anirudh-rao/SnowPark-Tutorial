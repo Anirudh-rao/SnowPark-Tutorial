{
 "metadata": {
  "kernelspec": {
   "display_name": "Streamlit Notebook",
   "name": "streamlit"
  },
  "lastEditStatus": {
   "notebookId": "hlzsnpsinal64zohgnqm",
   "authorId": "2857618133917",
   "authorName": "ROOK",
   "authorEmail": "anirudh.rao@gds.ey.com",
   "sessionId": "b2f0d179-0f8d-4dcc-b869-6cbedf359881",
   "lastEditTime": 1753946066791
  }
 },
 "nbformat_minor": 5,
 "nbformat": 4,
 "cells": [
  {
   "cell_type": "markdown",
   "id": "58022598-f531-409a-884f-07830398714f",
   "metadata": {
    "name": "cell1",
    "collapsed": false
   },
   "source": "# Creating User Defines Procedures in Snowpark:\n\nOperationalize UDFs and UDTFs in Snowpark\n\n1. Create UDFs from Files\n\n2. Write Python Functions to create UDF and UDTF's\n\n3. Register UDFs and UDTFs\n\n4. Data types (type hints vs registration API)\n\nFor More follow links:\n\n1. [Creating User-Defined Functions (UDFs) for DataFrames in Python](https://docs.snowflake.com/en/developer-guide/snowpark/python/creating-udfs)\n\n2. [UDFs in Snowflake Snowpark](https://thinketl.com/udfs-in-snowflake-snowpark/)\n\n3. [Operationalizing Snowpark Python: Part One](https://medium.com/snowflake/operationalizing-snowpark-python-part-one-892fcb3abba1)\n\n"
  },
  {
   "cell_type": "code",
   "id": "0eb7f078-fd13-45b2-b5a4-d7821fcdffe5",
   "metadata": {
    "language": "python",
    "name": "cell2"
   },
   "outputs": [],
   "source": "from snowflake.snowpark.functions import udf, udtf, col, lit, call_udf\nfrom snowflake.snowpark.types import IntegerType, StructType, StructField\nfrom snowflake.snowpark.context import get_active_session\n\nsession = get_active_session()\nsession.use_database(\"snowpark_db\")\nsession.use_schema(\"sourced\")\nsession.query_tag = \"create-udfs\"\n\ndf = session.create_dataframe(\n    [[1], [2], [3]],\n    schema=[\"a\"])\ndf",
   "execution_count": null
  },
  {
   "cell_type": "code",
   "id": "d3fe75ef-279b-48ac-bd2a-e00dcb85db1a",
   "metadata": {
    "language": "python",
    "name": "cell3"
   },
   "outputs": [],
   "source": "# anonymous scalar UDF (with udf + lambda)\nadd_1 = udf(\n    lambda x: x+1,\n    input_types=[IntegerType()],\n    return_type=IntegerType())\n\ndf.select(add_1(col(\"a\")).alias(\"res\"))",
   "execution_count": null
  },
  {
   "cell_type": "code",
   "id": "a751e09c-6875-4b04-917f-d62435e69e95",
   "metadata": {
    "language": "python",
    "name": "cell4"
   },
   "outputs": [],
   "source": "# named UDF (with udf + lambda)\nadd_2 = udf(\n    lambda x: x+2,\n    input_types=[IntegerType()],\n    return_type=IntegerType(),\n    name=\"add_2\",\n    replace=True)\n\nsession.sql(\"select add_2(1) as res\")",
   "execution_count": null
  },
  {
   "cell_type": "code",
   "id": "8a937a06-012e-4607-9e38-38002fa9a0a1",
   "metadata": {
    "language": "python",
    "name": "cell5"
   },
   "outputs": [],
   "source": "# registered UDF (with @udf decorator)\n@udf(name=\"add_3\",\n    replace=True,\n    is_permanent=True,\n    stage_location=\"@stage1\")\ndef add_3(x: int) -> int:\n    return x+3\n\ndf.select(call_udf(\"add_3\", col(\"a\")).alias(\"res\"))",
   "execution_count": null
  },
  {
   "cell_type": "code",
   "id": "1e0e2aff-9d33-4dba-88fd-faf99ddeedc5",
   "metadata": {
    "language": "python",
    "name": "cell6"
   },
   "outputs": [],
   "source": "# registered UDF (with register + inline lambda)\nsession.udf.register(\n    lambda x: x+4,\n    name=\"add_4\",\n    input_types=[IntegerType()],\n    return_type=IntegerType(),\n    replace=True,\n    is_permanent=True,\n    stage_location=\"@stage1\")\n\ndf.select(call_udf(\"add_4\", col(\"a\")).alias(\"res\"))",
   "execution_count": null
  },
  {
   "cell_type": "code",
   "id": "642c2499-0485-438b-a9a3-86e79ed33df6",
   "metadata": {
    "language": "python",
    "name": "cell7"
   },
   "outputs": [],
   "source": "# registered UDF (from uploaded local Python file)\n# must upload demo17.py file in this notebook!\nadd_5 = session.udf.register_from_file(\n    file_path=\"demo17.py\",\n    func_name=\"add_5\")\n\ndf.select(add_5(col(\"a\")).alias(\"res\"))",
   "execution_count": null
  },
  {
   "cell_type": "code",
   "id": "93756d11-c88c-426d-a262-002ecf24ff82",
   "metadata": {
    "language": "python",
    "name": "cell8"
   },
   "outputs": [],
   "source": "# registered UDF (from staged Python file)\n# must upload demo17.py file in this notebook!\nsession.file.put(\"demo17.py\", \"@stage1\", auto_compress=False)\n\nadd_5 = session.udf.register_from_file(\n    file_path=\"@stage1/demo17.py\",\n    func_name=\"add_5\",\n    return_type=IntegerType(),\n    input_types=[IntegerType()])\n\ndf.select(add_5(col(\"a\")).alias(\"res\"))",
   "execution_count": null
  },
  {
   "cell_type": "code",
   "id": "af54f6d5-cc09-44d0-8135-b757164f5c3a",
   "metadata": {
    "language": "python",
    "name": "cell9"
   },
   "outputs": [],
   "source": "# registered UDTF (from implementation class)\nclass Get2:\n    def process(self, n):\n        yield(1, )\n        yield(n, )\n\nget_2 = udtf(Get2,\n    input_types=[IntegerType()],\n    output_schema=StructType([StructField(\"number\", IntegerType())]))\n\nsession.table_function(get_2(lit(3)))",
   "execution_count": null
  }
 ]
}