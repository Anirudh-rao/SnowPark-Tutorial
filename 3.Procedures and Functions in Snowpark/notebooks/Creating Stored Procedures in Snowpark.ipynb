{
 "metadata": {
  "kernelspec": {
   "display_name": "Streamlit Notebook",
   "name": "streamlit"
  },
  "lastEditStatus": {
   "notebookId": "ohawwzpyatkwf2eqozhw",
   "authorId": "2857618133917",
   "authorName": "ROOK",
   "authorEmail": "anirudh.rao@gds.ey.com",
   "sessionId": "90b4e8fa-ec95-4cc3-af73-ada748bbf700",
   "lastEditTime": 1753868841103
  }
 },
 "nbformat_minor": 5,
 "nbformat": 4,
 "cells": [
  {
   "cell_type": "markdown",
   "id": "3d17a75d-26e6-414f-885d-3a6070f3cf77",
   "metadata": {
    "name": "cell1",
    "collapsed": false
   },
   "source": "# Creating Stored Procedures in Snowpark\n\nOperationalize Snowpark stored Procedures\n\n    Create Stored Procedures from files\n\n    Write Python Functions to power stored procedures\n\n    Register Stored Procedures\n\n    Data types(type hints vs registration API)\n\nFor more information follow the below links:\n\n1. [Creating Stored Procedures for DataFrames in Python](https://docs.snowflake.com/en/developer-guide/snowpark/python/creating-sprocs)\n\n2. [Operationalizing your code with Snowpark Python Stored Procedures](https://medium.com/snowflake/operationalizing-your-code-with-snowpark-python-stored-procedures-a16c77afcff)\n    "
  },
  {
   "cell_type": "code",
   "id": "fae25ac2-f402-41bf-b2d3-57099c6eed6e",
   "metadata": {
    "language": "python",
    "name": "cell2"
   },
   "outputs": [],
   "source": "import pandas as pd\nfrom snowflake.snowpark.functions import sproc\nfrom snowflake.snowpark.types import IntegerType\nfrom snowflake.snowpark import Session\nfrom snowflake.snowpark.context import get_active_session\n\nsession = get_active_session()\nsession.use_database(\"snowpark_db\")\nsession.use_schema(\"sourced\")\nsession.query_tag = \"create-sps\"",
   "execution_count": null
  },
  {
   "cell_type": "code",
   "id": "cfc40415-f761-4a6a-87fc-232cf05dd3c7",
   "metadata": {
    "language": "python",
    "name": "cell3"
   },
   "outputs": [],
   "source": "#Anonymous SP(with Sproc + Lambda)\nadd_one = sproc(\n    lambda session, x: session.sql(f\"select {x} + 1\").collect()[0][0],\n    input_types=[IntegerType()],\n    return_type=IntegerType(),\n    packages=[\"snowflake-snowpark-python\"])\n\nret = add_one(1)\nprint(f\"add_one: {ret}\")",
   "execution_count": null
  },
  {
   "cell_type": "code",
   "id": "e5e90cf4-598e-44c5-8a3a-71a98ab367a9",
   "metadata": {
    "language": "python",
    "name": "cell4"
   },
   "outputs": [],
   "source": "#Names SP(with Sproc + lambda)\nadd_two =  sproc(\n    lambda session, x:session.sql(f\"select {x} +2\").collect()[0][0],\n    input_types = [IntegerType()],\n    return_type=IntegerType(),\n    name=\"add_two_proc\",\n    replace=True,\n    packages=[\"snowflake-snowpark-python\"])\n\nret = session.call(\"add_two_proc\",1)\nprint(f\"add_two:{ret}\")",
   "execution_count": null
  },
  {
   "cell_type": "code",
   "id": "d38a1982-03d5-4212-966e-c142a2fc364e",
   "metadata": {
    "language": "python",
    "name": "cell5"
   },
   "outputs": [],
   "source": "#registered SP(with @proc decorator)\n@sproc(name =\"add_three\",\n    replace = True,\n    is_permanent= True,\n    stage_location=\"@snowpark_db.sourced.stage1\",\n       packages=[\"snowflake-snowpark-python\"]\n      )\n\ndef add_three(session:Session, x:int) -> int:\n    return session.sql(f\"select {x} + 3\").collect()[0][0]\n\nret = session.sql(\"call add_three(1)\").collect()[0][0]\nprint(f\"add_three: {ret}\")",
   "execution_count": null
  },
  {
   "cell_type": "code",
   "id": "509ac205-6b07-4a37-b1a7-c9c2d024a094",
   "metadata": {
    "language": "python",
    "name": "cell7"
   },
   "outputs": [],
   "source": "# registered SP (with @sproc decorator + add_packages)\nsession.add_packages(\"snowflake-snowpark-python\", \"pandas\")\n# session.add_import(...)\n# session.add_requirements(...)\n\n@sproc(name=\"showVersion\",\n    replace=True,\n    is_permanent=True,\n    stage_location=\"@snowpark_db.sourced.stage1\")\ndef showVersion(session: Session) -> str:\n   return pd.__version__\n\nret = session.call(\"showVersion\")\nprint(f\"showVersion: {ret}\")",
   "execution_count": null
  },
  {
   "cell_type": "code",
   "id": "419d988f-7ba3-4845-bb6a-56cfa25605e7",
   "metadata": {
    "language": "python",
    "name": "cell6"
   },
   "outputs": [],
   "source": "#Registered SP(with @sproc decorator + add_requirments)\n#must upload requirments.txt in this notebook\n\nsession.clear_packages()\nsession.add_requirements('requirments.txt')\n\n@sproc(name=\"showVersion\"\n      ,replace= True\n      ,is_permanent=True\n      ,stage_location=\"@snowpark_db.sourced.stage1\"\n      )\ndef showVersion(session:Session) -> str:\n    return pd.__version__\n\nret = session.call(\"showVersion\")\nprint(f\"showVersion: {ret}\")",
   "execution_count": null
  },
  {
   "cell_type": "code",
   "id": "56ebb548-aa4b-468a-93b7-659b2a8b3e1e",
   "metadata": {
    "language": "python",
    "name": "cell8"
   },
   "outputs": [],
   "source": "# registered SP (with register + inline lambda)\nsession.sproc.register(\n    lambda session, x: session.sql(f\"select {x} + 4\").collect()[0][0],\n    name=\"add_four\",\n    input_types=[IntegerType()],\n    return_type=IntegerType(),\n    replace=True,\n    is_permanent=True,\n    packages=[\"snowflake-snowpark-python\"],\n    stage_location=\"@stage1\")\n\nret = session.sql(\"call add_four(1)\").collect()[0][0]\nprint(f\"add_four: {ret}\")",
   "execution_count": null
  },
  {
   "cell_type": "code",
   "id": "ce59dac8-6c28-4fed-8cf0-dce7793050c7",
   "metadata": {
    "language": "python",
    "name": "cell9"
   },
   "outputs": [],
   "source": "# registered SP (from uploaded local Python file)\n# must upload demo16.py file in this notebook!\nadd_five = session.sproc.register_from_file(\n    file_path=\"demo16.py\",\n    func_name=\"add_five\",\n    packages=[\"snowflake-snowpark-python\"])\n\nprint(f\"add_five: {add_five(1)}\")",
   "execution_count": null
  },
  {
   "cell_type": "code",
   "id": "8529e0dc-4b37-4c42-8599-a22efda8c4e1",
   "metadata": {
    "language": "python",
    "name": "cell10"
   },
   "outputs": [],
   "source": "# registered SP (from staged Python file)\n# must upload demo16.py file in this notebook!\nsession.file.put(\"demo16.py\", \"@stage1\", auto_compress=False)\n\nadd_five = session.sproc.register_from_file(\n    file_path=\"@stage1/demo16.py\",\n    func_name=\"add_five\",\n    return_type=IntegerType(),\n    input_types=[IntegerType()],\n    packages=[\"snowflake-snowpark-python\"])\n\nprint(f\"add_five: {add_five(1)}\")",
   "execution_count": null
  }
 ]
}