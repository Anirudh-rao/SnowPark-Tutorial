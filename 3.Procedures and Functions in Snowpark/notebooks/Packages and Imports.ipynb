{
 "metadata": {
  "kernelspec": {
   "display_name": "Streamlit Notebook",
   "name": "streamlit"
  },
  "lastEditStatus": {
   "notebookId": "ll4hy62aoes3moqchb7d",
   "authorId": "2857618133917",
   "authorName": "ROOK",
   "authorEmail": "anirudh.rao@gds.ey.com",
   "sessionId": "32b565ff-b6ed-4347-be36-6706dc450686",
   "lastEditTime": 1753952047685
  }
 },
 "nbformat_minor": 5,
 "nbformat": 4,
 "cells": [
  {
   "cell_type": "markdown",
   "id": "8c5152a1-b6fa-4296-b7a2-923b77fea06b",
   "metadata": {
    "name": "cell1",
    "collapsed": false
   },
   "source": "# Packages and Imports\n\n1. Outline Snowpark Architecture:\n\n    1. Types of Libraries(DataFrames, MachineLearning)\n\n            Anaconnda repository and Other-third party libraries\n\n2. Operationalize UDF's and UDTF's in Snowpark\n\n    Use Python Modules(packaged python code)with UDF's\n\n3. Operationalize Snowpark stored Procedures\n\n    Use Python Modules with Stored Procedures\n\n    Make Dependencies available to code\n\n    Bring Python Modules to be used with UDF's\n\n        Stored Procedures to enable resuse of code\n\nFor more infomation follow the below links:\n\n1. [Using third-party packages](https://docs.snowflake.com/en/developer-guide/udf/python/udf-python-packages)\n\n2. [How to use third party Python packages not published on Snowflake's Anaconda channel in Snowpark.](https://community.snowflake.com/s/article/how-to-use-other-python-packages-in-snowpark)\n\n3. [How to import custom Python module into Snowflake and use it in Snowpark UDF?](https://stackoverflow.com/questions/76946415/how-to-import-custom-python-module-into-snowflake-and-use-it-in-snowpark-udf)\n\n"
  },
  {
   "cell_type": "code",
   "id": "287431c5-c9e1-4a53-828b-a017bff1ab6f",
   "metadata": {
    "language": "python",
    "name": "cell2"
   },
   "outputs": [],
   "source": "from snowflake.snowpark.functions import sproc\nfrom snowflake.snowpark import Session\nfrom snowflake.snowpark.context import get_active_session\n\nsession = get_active_session()\nsession.custom_package_usage_config = {\n    \"enabled\": True,\n    \"cache_path\": \"@stage1\"\n}",
   "execution_count": null
  },
  {
   "cell_type": "code",
   "id": "16a43fee-89ea-4c44-b54c-bac9f9f08c6a",
   "metadata": {
    "language": "python",
    "name": "cell3"
   },
   "outputs": [],
   "source": "# registered SP, passing the module locally (still TODO! try to fix it!)\n# must upload secrets.py file in this notebook!\nsession.add_import(\"secrets.py\")\n\n@sproc(name=\"showSecrets\",\n    replace=True,\n    is_permanent=True,\n    packages=[\"snowflake-snowpark-python\"],\n    stage_location=\"@stage1\")\ndef showSecrets2(session: Session) -> str:\n    import secrets\n    return secrets.show()\n\nsession.call(\"showSecrets\")",
   "execution_count": null
  },
  {
   "cell_type": "code",
   "id": "d955106d-7a66-4952-84d7-49de8abc1401",
   "metadata": {
    "language": "python",
    "name": "cell4"
   },
   "outputs": [],
   "source": "# registered SP, passing the module through the stage (still TODO! try to fix it!)\n# must upload secrets.py file in this notebook!\nsession.file.put(\"secrets.py\", \"@stage1\", auto_compress=False)\n\n@sproc(name=\"showSecrets2\",\n    replace=True,\n    is_permanent=True,\n    packages=[\"snowflake-snowpark-python\"],\n    imports=[\"@stage1/secrets.py\"],\n    stage_location=\"@stage1\")\ndef showSecrets2(session: Session) -> str:\n    import sys\n    import_dir = sys._xoptions.get(\"snowflake_import_directory\")\n    sys.path.append(f\"{import_dir}secrets.py\")\n    import secrets\n    return secrets.show()\n\nsession.call(\"showSecrets2\")",
   "execution_count": null
  }
 ]
}