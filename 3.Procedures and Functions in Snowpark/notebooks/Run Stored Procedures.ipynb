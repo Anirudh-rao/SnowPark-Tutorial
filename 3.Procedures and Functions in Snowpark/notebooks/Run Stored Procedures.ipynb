{
 "cells": [
  {
   "cell_type": "markdown",
   "id": "5384e376-ac1b-4635-beff-36f8ed8a3072",
   "metadata": {
    "collapsed": false,
    "name": "cell1"
   },
   "source": [
    "# Run Stored Procedures \n",
    "\n",
    "Operationalize snowpark stored procedures\n",
    "\n",
    "1. Use Snowpark Python Stored Procedures to run workloads\n",
    "\n",
    "2. Create DAG executing stored procedures \n",
    "\n",
    "For more information follow the below links:\n",
    "\n",
    "1.[Training Machine Learning Models with Snowpark Python](https://docs.snowflake.com/en/developer-guide/snowpark/python/python-snowpark-training-ml)\n",
    "\n",
    "2.[Managing Snowflake tasks and task graphs with Python](https://docs.snowflake.com/en/developer-guide/snowflake-python-api/snowflake-python-managing-tasks)"
   ]
  },
  {
   "cell_type": "code",
   "execution_count": null,
   "id": "b372a8f5-9b1e-4d11-9cb4-b352982c29fc",
   "metadata": {
    "language": "python",
    "name": "cell2"
   },
   "outputs": [],
   "source": [
    "from snowflake.core import Root\n",
    "from snowflake.snowpark.context import get_active_session\n",
    "\n",
    "session = get_active_session()\n",
    "root = Root(session)"
   ]
  },
  {
   "cell_type": "code",
   "execution_count": null,
   "id": "4e61d411-38b1-4a93-9fcd-75362a57c3da",
   "metadata": {
    "language": "python",
    "name": "cell3"
   },
   "outputs": [],
   "source": [
    "import time\n",
    "from datetime import timedelta\n",
    "from snowflake.core.task import StoredProcedureCall\n",
    "from snowflake.core.task.dagv1 import DAG, DAGTask, DAGOperation\n",
    "from snowflake.snowpark import Session\n",
    "\n",
    "def wait1(session: Session) -> None:\n",
    "    time.sleep(1)\n",
    "\n",
    "with DAG(\"dag\", schedule=timedelta(days=1)) as dag:\n",
    "    task1 = DAGTask(\"task1\", \"select system$wait(2)\")\n",
    "    task2 = DAGTask(\"task2\",\n",
    "        StoredProcedureCall(wait1,\n",
    "            stage_location=\"@stage1\",\n",
    "            packages=[\"snowflake-snowpark-python\"]),\n",
    "        warehouse=\"compute_wh\")\n",
    "    task3 = DAGTask(\"task3\", \"select system$wait(2)\")\n",
    "    task4 = DAGTask(\"task4\",\n",
    "        StoredProcedureCall(wait1,\n",
    "            stage_location=\"@stage1\",\n",
    "            packages=[\"snowflake-snowpark-python\"]),\n",
    "        warehouse=\"compute_wh\")\n",
    "    \n",
    "task1 >> task2 >> task4\n",
    "task1 >> task3 >> task4\n",
    "schema = root.databases[\"snowpark_db\"].schemas[\"sourced\"]\n",
    "dagop = DAGOperation(schema)\n",
    "dagop.deploy(dag)"
   ]
  },
  {
   "cell_type": "code",
   "execution_count": null,
   "id": "fb2a8bd6-aa29-46ed-a77f-45bde02f48c2",
   "metadata": {
    "language": "python",
    "name": "cell4"
   },
   "outputs": [],
   "source": [
    "dagop.run(\"dag\")\n"
   ]
  },
  {
   "cell_type": "code",
   "execution_count": null,
   "id": "5951b670-9676-468d-b13b-8b141c4fbf62",
   "metadata": {
    "language": "python",
    "name": "cell5"
   },
   "outputs": [],
   "source": [
    "dagop.get_current_dag_runs(\"dag\")[0]"
   ]
  },
  {
   "cell_type": "code",
   "execution_count": null,
   "id": "3f6bdc79-77c5-43e8-903a-718b5ef32d83",
   "metadata": {
    "language": "python",
    "name": "cell6"
   },
   "outputs": [],
   "source": [
    "dagop.get_complete_dag_runs(\"dag\")[1]"
   ]
  }
 ],
 "metadata": {
  "kernelspec": {
   "display_name": "Streamlit Notebook",
   "name": "streamlit"
  },
  "lastEditStatus": {
   "authorEmail": "anirudh.rao@gds.ey.com",
   "authorId": "2857618133917",
   "authorName": "ROOK",
   "lastEditTime": 1753952661737,
   "notebookId": "qb55nch52gvj2torr34d",
   "sessionId": "f5c32161-2ef1-4381-ae01-726e3dca5dd0"
  }
 },
 "nbformat": 4,
 "nbformat_minor": 5
}
