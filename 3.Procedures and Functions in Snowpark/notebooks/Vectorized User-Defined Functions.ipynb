{
 "metadata": {
  "kernelspec": {
   "display_name": "Streamlit Notebook",
   "name": "streamlit"
  },
  "lastEditStatus": {
   "notebookId": "762gcgb4rrqixxmwroqm",
   "authorId": "2857618133917",
   "authorName": "ROOK",
   "authorEmail": "anirudh.rao@gds.ey.com",
   "sessionId": "e16f489d-90cd-4354-89a5-8974606a8511",
   "lastEditTime": 1753949152035
  }
 },
 "nbformat_minor": 5,
 "nbformat": 4,
 "cells": [
  {
   "cell_type": "markdown",
   "id": "6054430f-97f2-4dfb-860d-60e1ebc88541",
   "metadata": {
    "name": "cell1",
    "collapsed": false
   },
   "source": "# Vectorized User Defined Functions\n\n1. Operationalize UDFS and UDTFS in snowpark\n\n    Compare scalar and vectorized operations\n\n\n2. Enhance performance in Snowpark Applications\n\n    Vectorization\n\n        Understanding the difference between vectoried and scalar UDFs\n\n        Vectorized UDFs for batching\n    \n\nFor more information follow the below links:\n\n1. [Snowpark Performance Best Practices](https://www.phdata.io/blog/snowpark-performance-best-practices/)\n\n2. [Vectorized Python UDFs](https://docs.snowflake.com/en/developer-guide/udf/python/udf-python-batch)\n\n"
  },
  {
   "cell_type": "code",
   "id": "67b3d0f2-497c-46be-94c7-49d087cafad6",
   "metadata": {
    "language": "python",
    "name": "cell2"
   },
   "outputs": [],
   "source": "import pandas as pd\nfrom snowflake.snowpark.functions import col, call_udf, pandas_udf\nfrom snowflake.snowpark.types import IntegerType, PandasSeriesType, PandasDataFrameType\nfrom snowflake.snowpark.context import get_active_session\n\nsession = get_active_session()\nsession.use_database(\"snowpark_db\")\nsession.use_schema(\"sourced\")\nsession.query_tag = \"create-vectorized-udfs\"\n\ndf = session.create_dataframe(\n    [[1, 2], [3, 4], [5, 6]],\n    schema=[\"a\", \"b\"])\ndf",
   "execution_count": null
  },
  {
   "cell_type": "code",
   "id": "60e2444a-e55d-42bc-84b6-604c81c0e9c9",
   "metadata": {
    "language": "python",
    "name": "cell3"
   },
   "outputs": [],
   "source": "# vectorized anonymous UDF (with pandas_udf + lambda)\nadd_10 = pandas_udf(\n    lambda df: df[0] + df[1] + 10,\n    input_types=[PandasDataFrameType([IntegerType(), IntegerType()])],\n    return_type=PandasSeriesType(IntegerType()))\n\ndf.select(add_10(\"a\", \"b\").alias(\"res\"))",
   "execution_count": null
  },
  {
   "cell_type": "code",
   "id": "8d9f47bd-f95e-4f2e-9507-6f4357d4792c",
   "metadata": {
    "language": "python",
    "name": "cell4"
   },
   "outputs": [],
   "source": "# vectorized named UDF (with @pandas_udf)\n@pandas_udf(\n    name=\"add_11\",\n    input_types=[PandasSeriesType(IntegerType()), PandasSeriesType(IntegerType())],\n    return_type=PandasSeriesType(IntegerType()),\n    replace=True)\ndef add_11(col1: pd.Series, col2: pd.Series) -> pd.Series:\n    return col1+col2+11\n\ndf.select(call_udf(\"add_11\", col(\"a\"), col(\"b\")).alias(\"res\"))",
   "execution_count": null
  }
 ]
}